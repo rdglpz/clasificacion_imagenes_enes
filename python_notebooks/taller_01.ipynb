{
 "cells": [
  {
   "cell_type": "markdown",
   "metadata": {},
   "source": [
    "# Probando Algoritmo básico de Gradiente descendente para optimizar una regresión logística\n",
    "\n",
    "\n",
    "    $$ P()f_{c}(x,\\theta) = sigm(w_0+x^T w) $$\n",
    "\n",
    "Observamos dos cosas nuevas:\n",
    "\n",
    "1. El Bias $w_0$\n",
    "2. La regresión lineal que es la entrada de la función sigmoide."
   ]
  },
  {
   "cell_type": "code",
   "execution_count": 1,
   "metadata": {},
   "outputs": [],
   "source": [
    "import numpy as np\n",
    "import matplotlib.pyplot as plt"
   ]
  },
  {
   "cell_type": "markdown",
   "metadata": {},
   "source": [
    "### Ejemplo Ilustrativo\n",
    "Encontrar parámetros de la función $f(x,\\theta) = p(y=1|x,\\theta)  =sigm(w_0+x^T \\mathbf{w}) $ donde $\\theta = \\{\\mathbf{w}, w_0\\}$utilizando el algoritmo de gradiente descendiente dado un conjunto de datos clasificados en dos clases.\n",
    "\n",
    "## 1. Construcción del problema\n",
    "**Generando dos clases sintéticas con medias $\\mu_0 \\neq \\mu_1$**"
   ]
  },
  {
   "cell_type": "code",
   "execution_count": 2,
   "metadata": {},
   "outputs": [
    {
     "data": {
      "image/png": "[encoded data removed]",
      "text/plain": [
       "<Figure size 432x288 with 1 Axes>"
      ]
     },
     "metadata": {
      "needs_background": "light"
     },
     "output_type": "display_data"
    }
   ],
   "source": [
    "mean00 = [10,10]\n",
    "mean01 = [15,20]\n",
    "\n",
    "cov00 = [[2,0],[0,2]]\n",
    "cov01 = [[2,0],[0,2]]\n",
    "\n",
    "class00 = np.random.multivariate_normal(mean00, cov00, size=100, check_valid='warn', tol=1e-8)\n",
    "class01 = np.random.multivariate_normal(mean01, cov01, size=100, check_valid='warn', tol=1e-8)\n",
    "\n",
    "plt.scatter(class00[:,0],class00[:,1])\n",
    "plt.scatter(class01[:,0],class01[:,1])\n",
    "plt.show()"
   ]
  },
  {
   "cell_type": "markdown",
   "metadata": {},
   "source": [
    "**Generando una sola base de datos de datos clasificados**"
   ]
  },
  {
   "cell_type": "code",
   "execution_count": 3,
   "metadata": {},
   "outputs": [],
   "source": [
    "zeros = np.zeros(len(class00)).T\n",
    "labeled_class00 = np.append(class00,np.transpose([zeros]),axis=1)\n",
    "labeled_class01 = np.append(class01,np.transpose([zeros])+1,axis=1)\n",
    "labeled_classes = np.append(labeled_class00,labeled_class01,axis=0)"
   ]
  },
  {
   "cell_type": "code",
   "execution_count": null,
   "metadata": {},
   "outputs": [],
   "source": []
  },
  {
   "cell_type": "markdown",
   "metadata": {},
   "source": [
    "### 2. Definir un modelo de clasificación:\n",
    "\n",
    "$f(x,\\theta) = p(y=1|x,\\theta)  =sigm(w_0+x^T \\mathbf{w}) $ donde $\\theta = \\{\\mathbf{w}, w_0\\}$\n",
    "\n",
    "donde si $sigm(w_0+x^T \\mathbf{w}) > 0.5$ , $x$ pertenece a la clase positiva,y a la clase negativa en caso contrario."
   ]
  },
  {
   "cell_type": "markdown",
   "metadata": {},
   "source": [
    "### 3. Definir la función de costo $C$\n",
    "Definimos nuestra función de \"costo\".\n",
    "\n",
    "Usamos la log-verosimilitud $C(\\theta) = LL(\\theta)$ para evaluar nuestro modelo.\n",
    "\n",
    "$LL(\\theta) = \\sum_{i=1}^m (y_i \\text{ log } sigm(\\mathbf{w}^T \\mathbf{x}_i +w_0) + (1-y_i) \\text{ log } [1-sigm(\\mathbf{w}^T \\mathbf{x}_i) + w_0])$\n",
    "\n",
    "#### 3.1 Formular la función objetivo\n",
    "\n",
    "$$ \\underset{\\theta \\in \\{\\mathbf{w},w_0\\}}{\\text{maximize}} \\text{ } LL(\\theta)$$\n",
    "\n",
    "\n",
    "## 4 Seleccionar el algoritmo que maximice la función objetivo.\n",
    "\n",
    "Gradiente Ascendente\n",
    "\n",
    "### 4.1 Calculamos la derivada para guiar los parámetros al óptimo.\n",
    "\n",
    "\n",
    "$\\frac{\\partial LL(\\theta)}{\\partial \\mathbf{\\theta}} = \\sum_{i=1}^n [y_i-sigm( \\mathbf{w}^T\\mathbf{x}_i + w_0 )]x_j $, donde para $j=0$, $x_0 =1$ \n",
    "\n",
    "### Gradiente Ascendente\n"
   ]
  },
  {
   "cell_type": "markdown",
   "metadata": {},
   "source": [
    "**Utilizando modelo con Bias**\n",
    "        \n",
    "$\\mathbf{wx}_i+w_0=0$\n",
    "\n",
    "$x_0w_0$ con $x_0 =  1$"
   ]
  },
  {
   "cell_type": "markdown",
   "metadata": {},
   "source": [
    "**Modelo sin entrenar**"
   ]
  },
  {
   "cell_type": "code",
   "execution_count": 4,
   "metadata": {},
   "outputs": [],
   "source": [
    "#inicializar parametros theta\n",
    "W = np.ones(np.shape(labeled_classes)[1]-1)\n",
    "\n",
    "#inicializar w_0 (bias)\n",
    "w_0 = 0"
   ]
  },
  {
   "cell_type": "markdown",
   "metadata": {},
   "source": [
    "Antes de encontrar los parámetros que nos maximicen la probabilidad de clasificar correctamente"
   ]
  },
  {
   "cell_type": "code",
   "execution_count": 5,
   "metadata": {},
   "outputs": [
    {
     "data": {
      "image/png": "[encoded data removed]",
      "text/plain": [
       "<Figure size 432x288 with 1 Axes>"
      ]
     },
     "metadata": {
      "needs_background": "light"
     },
     "output_type": "display_data"
    }
   ],
   "source": [
    "hmin = np.min([class00[:,0],class01[:,0]])\n",
    "hmax = np.max([class00[:,0],class01[:,0]])+1\n",
    "X = np.arange(hmin,hmax)\n",
    "Y = (-W[0]/W[1])*X-(w_0/W[1])\n",
    "plt.plot(X,Y)\n",
    "plt.scatter(class01[:,0],class01[:,1])\n",
    "plt.scatter(class00[:,0],class00[:,1])\n",
    "plt.show()"
   ]
  },
  {
   "cell_type": "code",
   "execution_count": 6,
   "metadata": {},
   "outputs": [
    {
     "name": "stdout",
     "output_type": "stream",
     "text": [
      "Errores de clasificación: 100.0\n"
     ]
    }
   ],
   "source": [
    "#Ecuación de la sigmoide\n",
    "sigm = lambda x: 1/(1 + np.exp(-x))\n",
    "\n",
    "def f(x,bias=w_0):\n",
    "    return sigm(np.matmul(x,W)+bias)\n",
    "\n",
    "pred = (np.array(list(map(f,labeled_classes[:,0:-1])))>0.5)*1\n",
    "print(\"Errores de clasificación:\", np.sum((pred - labeled_classes[:,-1])**2))"
   ]
  },
  {
   "cell_type": "code",
   "execution_count": 7,
   "metadata": {},
   "outputs": [
    {
     "name": "stdout",
     "output_type": "stream",
     "text": [
      "parametros w_1 y w_2 [-3.10307689 10.76829129]\n",
      "w_0 (bias) -116.0345551960336\n"
     ]
    }
   ],
   "source": [
    "#eta, tasa de aprendizaje\n",
    "eta = 0.01\n",
    "\n",
    "\n",
    "#repetir varias veces\n",
    "for k in range(1500):\n",
    "    \n",
    "    #inicializar gradiente parametros + bias (2 dim + 1)\n",
    "    g = np.zeros(len(W)+1)\n",
    "\n",
    "    #por cada tupla (x_i,y_i) \n",
    "    for v in labeled_classes:\n",
    "    \n",
    "        #asignamos la pareja (o tupla) (x_i,y_i)\n",
    "        x = v[:2]\n",
    "        y = v[2]\n",
    "        \n",
    "        # por cada parametro\n",
    "        line = np.matmul(x,W)+w_0\n",
    "        \n",
    "        # Calcular la derivada parcial con respecto a cada parámetro w_1, y w_2\n",
    "        for j in np.arange(len(x)):\n",
    "    \n",
    "            #gradiente evaluado con respecto a w_1 y w_2 en la derivada de la funcion de log-verosimilitud\n",
    "            g[j]+=(y-sigm(line))*x[j]\n",
    "\n",
    "        \n",
    "        #gradiente evaluado con respecto a w_0\n",
    "        g[2] += (y-sigm(line))*1\n",
    "\n",
    "        \n",
    "    #actualización de los parámetros\n",
    "    W += eta*g[:2]\n",
    "    w_0 += eta*g[2]\n",
    "\n",
    "    \n",
    "print(\"parametros w_1 y w_2\",+W)    \n",
    "print(\"w_0 (bias)\",w_0)"
   ]
  },
  {
   "cell_type": "code",
   "execution_count": 8,
   "metadata": {},
   "outputs": [
    {
     "name": "stdout",
     "output_type": "stream",
     "text": [
      "Errores de clasificación: 0.0\n"
     ]
    }
   ],
   "source": [
    "#Ecuación de la sigmoide\n",
    "\n",
    "def f(x,bias=w_0):\n",
    "    return sigm(np.matmul(x,W)+bias)\n",
    "\n",
    "pred = (np.array(list(map(f,labeled_classes[:,0:2])))>0.5)*1\n",
    "print(\"Errores de clasificación:\", np.sum((pred - labeled_classes[:,2])**2))"
   ]
  },
  {
   "cell_type": "code",
   "execution_count": 9,
   "metadata": {},
   "outputs": [
    {
     "data": {
      "image/png": "[encoded data removed]",
      "text/plain": [
       "<Figure size 432x288 with 1 Axes>"
      ]
     },
     "metadata": {
      "needs_background": "light"
     },
     "output_type": "display_data"
    }
   ],
   "source": [
    "hmin = np.min([class00[:,0],class01[:,0]])\n",
    "hmax = np.max([class00[:,0],class01[:,0]])+1\n",
    "w_1 = np.arange(hmin,hmax)\n",
    "\n",
    "# este es un despeje de w_1*x_1+w_2*x_2+w_0 = 0, \n",
    "w_2 = (-W[0]/W[1])*X-(w_0/W[1])\n",
    "plt.plot(w_1,w_2)\n",
    "plt.scatter(class01[:,0],class01[:,1])\n",
    "plt.scatter(class00[:,0],class00[:,1])\n",
    "plt.show()"
   ]
  },
  {
   "cell_type": "code",
   "execution_count": null,
   "metadata": {},
   "outputs": [],
   "source": []
  }
 ],
 "metadata": {
  "kernelspec": {
   "display_name": "Python 3",
   "language": "python",
   "name": "python3"
  },
  "language_info": {
   "codemirror_mode": {
    "name": "ipython",
    "version": 3
   },
   "file_extension": ".py",
   "mimetype": "text/x-python",
   "name": "python",
   "nbconvert_exporter": "python",
   "pygments_lexer": "ipython3",
   "version": "3.7.6"
  }
 },
 "nbformat": 4,
 "nbformat_minor": 4
}
