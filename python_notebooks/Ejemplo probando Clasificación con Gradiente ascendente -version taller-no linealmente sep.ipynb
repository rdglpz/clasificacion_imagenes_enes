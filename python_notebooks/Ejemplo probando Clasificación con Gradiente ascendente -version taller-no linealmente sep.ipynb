{
 "cells": [
  {
   "cell_type": "markdown",
   "metadata": {},
   "source": [
    "# Probando Clasificación con Gradiente descendente"
   ]
  },
  {
   "cell_type": "code",
   "execution_count": 1,
   "metadata": {},
   "outputs": [],
   "source": [
    "import numpy as np\n",
    "import matplotlib.pyplot as plt"
   ]
  },
  {
   "cell_type": "markdown",
   "metadata": {},
   "source": [
    "**Generando dos clases sintéticas con medias $\\mu_0 \\neq \\mu_1$**"
   ]
  },
  {
   "cell_type": "code",
   "execution_count": 2,
   "metadata": {},
   "outputs": [
    {
     "data": {
      "text/plain": [
       "<matplotlib.collections.PathCollection at 0x7fa549da3d90>"
      ]
     },
     "execution_count": 2,
     "metadata": {},
     "output_type": "execute_result"
    },
    {
     "data": {
      "image/png": "[encoded data removed]",
      "text/plain": [
       "<Figure size 432x288 with 1 Axes>"
      ]
     },
     "metadata": {
      "needs_background": "light"
     },
     "output_type": "display_data"
    }
   ],
   "source": [
    "mean00 = [10,10]\n",
    "mean01 = [15,20]\n",
    "\n",
    "cov00 = [[2,0],[0,2]]\n",
    "cov01 = [[2,0],[0,2]]\n",
    "\n",
    "class00 = np.random.multivariate_normal(mean00, cov00, size=100, check_valid='warn', tol=1e-8)\n",
    "class01 = np.random.multivariate_normal(mean01, cov01, size=100, check_valid='warn', tol=1e-8)\n",
    "\n",
    "plt.scatter(class00[:,0],class00[:,1])\n",
    "plt.scatter(class01[:,0],class01[:,1])"
   ]
  },
  {
   "cell_type": "markdown",
   "metadata": {},
   "source": [
    "**Generando una sola base de datos de datos clasificados**"
   ]
  },
  {
   "cell_type": "code",
   "execution_count": 396,
   "metadata": {},
   "outputs": [
    {
     "data": {
      "text/plain": [
       "<matplotlib.collections.PathCollection at 0x7fea43dd5e10>"
      ]
     },
     "execution_count": 396,
     "metadata": {},
     "output_type": "execute_result"
    },
    {
     "data": {
      "image/png": "[encoded data removed]",
      "text/plain": [
       "<Figure size 432x288 with 1 Axes>"
      ]
     },
     "metadata": {
      "needs_background": "light"
     },
     "output_type": "display_data"
    }
   ],
   "source": [
    "a = 0.1\n",
    "\n",
    "x = np.arange(0,40)\n",
    "y = a*(x-20)**2\n",
    "\n",
    "#Agregamos ruido uniformemente distribuido \n",
    "\n",
    "y_noise_00 = y +np.random.rand(len(x))*10\n",
    "\n",
    "y_noise_01 = y +np.random.rand(len(x))*10+30\n",
    "\n",
    "plt.scatter(x,y_noise_00)\n",
    "\n",
    "plt.scatter(x,y_noise_01)"
   ]
  },
  {
   "cell_type": "code",
   "execution_count": 401,
   "metadata": {},
   "outputs": [],
   "source": [
    "class_00 = np.append([x],[y_noise_00],axis=0).T\n",
    "zeros = np.zeros(len(class_00)).T\n",
    "\n",
    "labeled_class00 = np.append(class_00,np.transpose([zeros]),axis=1)\n",
    "labeled_class00\n",
    "\n",
    "class_01 = np.append([x],[y_noise_01],axis=0).T\n",
    "\n",
    "\n",
    "ones = np.ones(len(class_01)).T\n",
    "\n",
    "labeled_class01 = np.append(class_01,np.transpose([ones]),axis=1)\n",
    "\n",
    "ones = ones*0\n",
    "labeled_class00 = np.append(class_00,np.transpose([ones]),axis=1)"
   ]
  },
  {
   "cell_type": "code",
   "execution_count": 398,
   "metadata": {},
   "outputs": [
    {
     "data": {
      "text/plain": [
       "array([[ 0.        , 43.57879291,  0.        ],\n",
       "       [ 1.        , 38.25686159,  0.        ],\n",
       "       [ 2.        , 33.65222425,  0.        ],\n",
       "       [ 3.        , 35.58326609,  0.        ],\n",
       "       [ 4.        , 34.71588722,  0.        ],\n",
       "       [ 5.        , 32.38702072,  0.        ],\n",
       "       [ 6.        , 28.39419039,  0.        ],\n",
       "       [ 7.        , 20.20082333,  0.        ],\n",
       "       [ 8.        , 24.19586975,  0.        ],\n",
       "       [ 9.        , 18.48536939,  0.        ],\n",
       "       [10.        , 19.43098795,  0.        ],\n",
       "       [11.        ,  9.78931084,  0.        ],\n",
       "       [12.        , 14.4403072 ,  0.        ],\n",
       "       [13.        ,  8.95888303,  0.        ],\n",
       "       [14.        ,  7.17704765,  0.        ],\n",
       "       [15.        ,  9.57779397,  0.        ],\n",
       "       [16.        ,  7.58424501,  0.        ],\n",
       "       [17.        ,  8.9341588 ,  0.        ],\n",
       "       [18.        ,  3.13378008,  0.        ],\n",
       "       [19.        ,  9.23532406,  0.        ],\n",
       "       [20.        ,  6.43370902,  0.        ],\n",
       "       [21.        ,  6.67961846,  0.        ],\n",
       "       [22.        ,  5.15107388,  0.        ],\n",
       "       [23.        ,  3.13252828,  0.        ],\n",
       "       [24.        ,  9.40036651,  0.        ],\n",
       "       [25.        ,  8.96646931,  0.        ],\n",
       "       [26.        , 12.97187713,  0.        ],\n",
       "       [27.        ,  6.17097537,  0.        ],\n",
       "       [28.        , 14.94380716,  0.        ],\n",
       "       [29.        , 15.78038035,  0.        ],\n",
       "       [30.        , 13.44006058,  0.        ],\n",
       "       [31.        , 12.38640541,  0.        ],\n",
       "       [32.        , 18.24681531,  0.        ],\n",
       "       [33.        , 24.89568658,  0.        ],\n",
       "       [34.        , 20.9740082 ,  0.        ],\n",
       "       [35.        , 29.60592301,  0.        ],\n",
       "       [36.        , 28.15828701,  0.        ],\n",
       "       [37.        , 36.2793585 ,  0.        ],\n",
       "       [38.        , 35.14373666,  0.        ],\n",
       "       [39.        , 45.91909167,  0.        ]])"
      ]
     },
     "execution_count": 398,
     "metadata": {},
     "output_type": "execute_result"
    }
   ],
   "source": [
    "labeled_class00"
   ]
  },
  {
   "cell_type": "code",
   "execution_count": 399,
   "metadata": {},
   "outputs": [
    {
     "data": {
      "text/plain": [
       "array([[ 0.        , 43.57879291,  0.        ],\n",
       "       [ 1.        , 38.25686159,  0.        ],\n",
       "       [ 2.        , 33.65222425,  0.        ],\n",
       "       [ 3.        , 35.58326609,  0.        ],\n",
       "       [ 4.        , 34.71588722,  0.        ],\n",
       "       [ 5.        , 32.38702072,  0.        ],\n",
       "       [ 6.        , 28.39419039,  0.        ],\n",
       "       [ 7.        , 20.20082333,  0.        ],\n",
       "       [ 8.        , 24.19586975,  0.        ],\n",
       "       [ 9.        , 18.48536939,  0.        ],\n",
       "       [10.        , 19.43098795,  0.        ],\n",
       "       [11.        ,  9.78931084,  0.        ],\n",
       "       [12.        , 14.4403072 ,  0.        ],\n",
       "       [13.        ,  8.95888303,  0.        ],\n",
       "       [14.        ,  7.17704765,  0.        ],\n",
       "       [15.        ,  9.57779397,  0.        ],\n",
       "       [16.        ,  7.58424501,  0.        ],\n",
       "       [17.        ,  8.9341588 ,  0.        ],\n",
       "       [18.        ,  3.13378008,  0.        ],\n",
       "       [19.        ,  9.23532406,  0.        ],\n",
       "       [20.        ,  6.43370902,  0.        ],\n",
       "       [21.        ,  6.67961846,  0.        ],\n",
       "       [22.        ,  5.15107388,  0.        ],\n",
       "       [23.        ,  3.13252828,  0.        ],\n",
       "       [24.        ,  9.40036651,  0.        ],\n",
       "       [25.        ,  8.96646931,  0.        ],\n",
       "       [26.        , 12.97187713,  0.        ],\n",
       "       [27.        ,  6.17097537,  0.        ],\n",
       "       [28.        , 14.94380716,  0.        ],\n",
       "       [29.        , 15.78038035,  0.        ],\n",
       "       [30.        , 13.44006058,  0.        ],\n",
       "       [31.        , 12.38640541,  0.        ],\n",
       "       [32.        , 18.24681531,  0.        ],\n",
       "       [33.        , 24.89568658,  0.        ],\n",
       "       [34.        , 20.9740082 ,  0.        ],\n",
       "       [35.        , 29.60592301,  0.        ],\n",
       "       [36.        , 28.15828701,  0.        ],\n",
       "       [37.        , 36.2793585 ,  0.        ],\n",
       "       [38.        , 35.14373666,  0.        ],\n",
       "       [39.        , 45.91909167,  0.        ],\n",
       "       [ 0.        , 72.99963497,  1.        ],\n",
       "       [ 1.        , 66.25249531,  1.        ],\n",
       "       [ 2.        , 69.47862325,  1.        ],\n",
       "       [ 3.        , 68.12423544,  1.        ],\n",
       "       [ 4.        , 58.18406218,  1.        ],\n",
       "       [ 5.        , 59.71572434,  1.        ],\n",
       "       [ 6.        , 56.45457802,  1.        ],\n",
       "       [ 7.        , 52.4068255 ,  1.        ],\n",
       "       [ 8.        , 47.24274882,  1.        ],\n",
       "       [ 9.        , 43.36311311,  1.        ],\n",
       "       [10.        , 44.07483255,  1.        ],\n",
       "       [11.        , 39.85302512,  1.        ],\n",
       "       [12.        , 44.01192218,  1.        ],\n",
       "       [13.        , 41.07318483,  1.        ],\n",
       "       [14.        , 33.8127034 ,  1.        ],\n",
       "       [15.        , 33.21045858,  1.        ],\n",
       "       [16.        , 37.15741812,  1.        ],\n",
       "       [17.        , 31.73730861,  1.        ],\n",
       "       [18.        , 34.83305033,  1.        ],\n",
       "       [19.        , 39.87419754,  1.        ],\n",
       "       [20.        , 31.48844934,  1.        ],\n",
       "       [21.        , 35.0882841 ,  1.        ],\n",
       "       [22.        , 39.71262275,  1.        ],\n",
       "       [23.        , 31.62777132,  1.        ],\n",
       "       [24.        , 40.68066481,  1.        ],\n",
       "       [25.        , 36.14619892,  1.        ],\n",
       "       [26.        , 38.39007043,  1.        ],\n",
       "       [27.        , 35.30625817,  1.        ],\n",
       "       [28.        , 38.9855814 ,  1.        ],\n",
       "       [29.        , 44.46375169,  1.        ],\n",
       "       [30.        , 42.9567545 ,  1.        ],\n",
       "       [31.        , 43.13876601,  1.        ],\n",
       "       [32.        , 46.36785753,  1.        ],\n",
       "       [33.        , 53.20209487,  1.        ],\n",
       "       [34.        , 54.57671019,  1.        ],\n",
       "       [35.        , 61.72180758,  1.        ],\n",
       "       [36.        , 56.20328364,  1.        ],\n",
       "       [37.        , 60.75140654,  1.        ],\n",
       "       [38.        , 62.61155513,  1.        ],\n",
       "       [39.        , 67.27858905,  1.        ]])"
      ]
     },
     "execution_count": 399,
     "metadata": {},
     "output_type": "execute_result"
    }
   ],
   "source": [
    "\n",
    "labeled_classes = np.append(labeled_class00,labeled_class01,axis=0)\n",
    "labeled_classes"
   ]
  },
  {
   "cell_type": "markdown",
   "metadata": {},
   "source": [
    "Definimos nuestra función de \"costo\". Decidimos implementar la derivada de la verosimilitud \n",
    "\n",
    "$\\frac{\\partial LL(\\theta)}{\\partial \\theta_j} = \\sum_{i=1}^n [y_i-sigm(\\theta^T\\mathbf{x}_i)]x_j$"
   ]
  },
  {
   "cell_type": "markdown",
   "metadata": {},
   "source": [
    "**La programación de la derivada de la función de costo **"
   ]
  },
  {
   "cell_type": "code",
   "execution_count": 179,
   "metadata": {},
   "outputs": [],
   "source": [
    "#def pd(x,y,a):\n",
    "#    s = 0    \n",
    "#    for i in np.arange(len(x)):\n",
    "#        dif = ((y[i]-a*x[i]))\n",
    "#        s = s + dif*(x[i])\n",
    "#    return s"
   ]
  },
  {
   "cell_type": "code",
   "execution_count": null,
   "metadata": {},
   "outputs": [],
   "source": [
    "\n",
    "\n",
    "\n",
    "    \n",
    "    \n",
    "    "
   ]
  },
  {
   "cell_type": "markdown",
   "metadata": {},
   "source": [
    "\n",
    "\n",
    "**Utilizando modelo sin Bias**\n",
    "        \n",
    "$\\mathbf{wx}=0$"
   ]
  },
  {
   "cell_type": "code",
   "execution_count": null,
   "metadata": {},
   "outputs": [],
   "source": [
    "\n",
    "\n"
   ]
  },
  {
   "cell_type": "code",
   "execution_count": null,
   "metadata": {},
   "outputs": [],
   "source": []
  },
  {
   "cell_type": "code",
   "execution_count": null,
   "metadata": {},
   "outputs": [],
   "source": []
  },
  {
   "cell_type": "code",
   "execution_count": null,
   "metadata": {},
   "outputs": [],
   "source": []
  },
  {
   "cell_type": "markdown",
   "metadata": {},
   "source": [
    "Ahora considerando: \n",
    "\n",
    "**Utilizando modelo con Bias**\n",
    "        \n",
    "$\\mathbf{wx}_i+w_0=0$\n",
    "\n",
    "$x_0w_0$ con $x_0 =  1$"
   ]
  },
  {
   "cell_type": "markdown",
   "metadata": {},
   "source": [
    "**Modelo sin entrenar**"
   ]
  },
  {
   "cell_type": "code",
   "execution_count": null,
   "metadata": {},
   "outputs": [],
   "source": []
  },
  {
   "cell_type": "code",
   "execution_count": 200,
   "metadata": {},
   "outputs": [],
   "source": [
    "#inicializar parametros theta\n",
    "param = np.ones(np.shape(labeled_classes)[1]-1)\n",
    "\n",
    "#inicializar w_0 (bias)\n",
    "bias = 0"
   ]
  },
  {
   "cell_type": "code",
   "execution_count": 201,
   "metadata": {},
   "outputs": [
    {
     "name": "stdout",
     "output_type": "stream",
     "text": [
      "Errores de clasificación: 20.0\n"
     ]
    }
   ],
   "source": [
    "#Ecuación de la sigmoide\n",
    "sigm = lambda x: 1/(1 + np.exp(-x))\n",
    "\n",
    "def f(x,bias=bias):\n",
    "    return sigm(np.matmul(x,param)+bias)\n",
    "\n",
    "pred = (np.array(list(map(f,labeled_classes[:,:-1])))>0.5)*1\n",
    "print(\"Errores de clasificación:\", np.sum((pred - labeled_classes[:,-1])**2))"
   ]
  },
  {
   "cell_type": "code",
   "execution_count": 205,
   "metadata": {},
   "outputs": [
    {
     "name": "stderr",
     "output_type": "stream",
     "text": [
      "/Users/rodrigo/opt/anaconda3/lib/python3.7/site-packages/ipykernel_launcher.py:2: RuntimeWarning: overflow encountered in exp\n",
      "  \n"
     ]
    },
    {
     "name": "stdout",
     "output_type": "stream",
     "text": [
      "parametros w_1 y w_2 [-3788.84341457   153.25013059]\n",
      "w_0 (bias) -849.0863257241108\n"
     ]
    }
   ],
   "source": [
    "n = 0.02\n",
    "\n",
    "\n",
    "#inicializar parametros theta\n",
    "\n",
    "\n",
    "#inicializar w_0 (bias)\n",
    "bias = 0\n",
    "\n",
    "x = param\n",
    "\n",
    "#repetir varias veces\n",
    "for k in range(20000):\n",
    "    \n",
    "    #inicializar gradiente parametros + bias\n",
    "    g = np.zeros(len(param)+1)\n",
    "\n",
    "    #por cada tupla (x,y)\n",
    "    for v in labeled_classes:\n",
    "    \n",
    "        #asignamos la pareja (o tupla) (x_i,y_i)\n",
    "        x = v[:-1]\n",
    "        y = v[-1]\n",
    "        \n",
    "        # por cada parametro\n",
    "        line = np.matmul(x,param)+1*bias\n",
    "        for j in np.arange(len(x)):\n",
    "    \n",
    "            #gradiente evaluado con respecto a w_1 y w_2 en la derivada de la funcion de log-verosimilitud\n",
    "            g[j]+=(y-sigm(line))*x[j]\n",
    "\n",
    "        \n",
    "        #gradiente evaluado con respecto a w_0\n",
    "        g[2] += (y-sigm(line))*1\n",
    "\n",
    "        \n",
    "    #actualización de los parámetros\n",
    "    param += n*g[:2]\n",
    "    bias += n*g[2]\n",
    "\n",
    "    \n",
    "print(\"parametros w_1 y w_2\",+param)    \n",
    "print(\"w_0 (bias)\",bias)"
   ]
  },
  {
   "cell_type": "code",
   "execution_count": 206,
   "metadata": {},
   "outputs": [
    {
     "name": "stdout",
     "output_type": "stream",
     "text": [
      "Errores de clasificación: 12.0\n"
     ]
    },
    {
     "name": "stderr",
     "output_type": "stream",
     "text": [
      "/Users/rodrigo/opt/anaconda3/lib/python3.7/site-packages/ipykernel_launcher.py:2: RuntimeWarning: overflow encountered in exp\n",
      "  \n"
     ]
    }
   ],
   "source": [
    "#Ecuación de la sigmoide\n",
    "\n",
    "def f(x,bias=bias):\n",
    "    return sigm(np.matmul(x,param)+bias)\n",
    "\n",
    "pred = (np.array(list(map(f,labeled_classes[:,:-1])))>0.5)*1\n",
    "print(\"Errores de clasificación:\", np.sum((pred - labeled_classes[:,-1])**2))"
   ]
  },
  {
   "cell_type": "code",
   "execution_count": 207,
   "metadata": {},
   "outputs": [
    {
     "data": {
      "image/png": "[encoded data removed]",
      "text/plain": [
       "<Figure size 432x288 with 1 Axes>"
      ]
     },
     "metadata": {
      "needs_background": "light"
     },
     "output_type": "display_data"
    }
   ],
   "source": [
    "hmin = np.min([labeled_class01[:,0],labeled_class01[:,0]])\n",
    "hmax = np.max([labeled_class00[:,0],labeled_class00[:,0]])+1\n",
    "X = np.arange(hmin,hmax)\n",
    "Y = (-param[0]/param[1])*X-(bias/param[1])\n",
    "plt.plot(X,Y)\n",
    "plt.scatter(labeled_class01[:,0],labeled_class01[:,1])\n",
    "plt.scatter(labeled_class00[:,0],labeled_class00[:,1])\n",
    "plt.show()"
   ]
  },
  {
   "cell_type": "code",
   "execution_count": 208,
   "metadata": {},
   "outputs": [
    {
     "name": "stdout",
     "output_type": "stream",
     "text": [
      "[{'weights': [0.13436424411240122, 0.8474337369372327, 0.763774618976614]}]\n",
      "[{'weights': [0.2550690257394217, 0.49543508709194095]}, {'weights': [0.4494910647887381, 0.651592972722763]}]\n"
     ]
    }
   ],
   "source": [
    "from random import seed\n",
    "from random import random\n",
    "\n",
    "# Initialize a network\n",
    "def initialize_network(n_inputs, n_hidden, n_outputs):\n",
    "    network = list()\n",
    "    hidden_layer = [{'weights':[random() for i in range(n_inputs + 1)]} for i in range(n_hidden)]\n",
    "    network.append(hidden_layer)\n",
    "    output_layer = [{'weights':[random() for i in range(n_hidden + 1)]} for i in range(n_outputs)]\n",
    "    network.append(output_layer)\n",
    "    return network\n",
    "\n",
    "seed(1)\n",
    "network = initialize_network(2, 1, 2)\n",
    "for layer in network:\n",
    "    print(layer)"
   ]
  },
  {
   "cell_type": "code",
   "execution_count": 209,
   "metadata": {},
   "outputs": [
    {
     "data": {
      "text/plain": [
       "[{'weights': [0.7887233511355132, 0.0938595867742349, 0.02834747652200631]},\n",
       " {'weights': [0.8357651039198697, 0.43276706790505337, 0.762280082457942]},\n",
       " {'weights': [0.0021060533511106927, 0.4453871940548014, 0.7215400323407826]}]"
      ]
     },
     "execution_count": 209,
     "metadata": {},
     "output_type": "execute_result"
    }
   ],
   "source": [
    "n_inputs =2 \n",
    "n_hidden = 3 \n",
    "n_outputs = 1\n",
    "[{'weights':[random() for i in range(n_inputs + 1)]} for i in range(n_hidden)]"
   ]
  },
  {
   "cell_type": "code",
   "execution_count": 210,
   "metadata": {},
   "outputs": [
    {
     "data": {
      "text/plain": [
       "[0, 1, 2]"
      ]
     },
     "execution_count": 210,
     "metadata": {},
     "output_type": "execute_result"
    }
   ],
   "source": [
    "[i for i in range(n_hidden)]"
   ]
  },
  {
   "cell_type": "code",
   "execution_count": 212,
   "metadata": {},
   "outputs": [],
   "source": [
    "# Initialize a network\n",
    "def initialize_network(n_inputs, n_hidden, n_outputs):\n",
    "    network = list()\n",
    "    hidden_layer = [{'weights':[random() for i in range(n_inputs + 1)]} for i in range(n_hidden)]\n",
    "    network.append(hidden_layer)\n",
    "    output_layer = [{'weights':[random() for i in range(n_hidden + 1)]} for i in range(n_outputs)]\n",
    "    network.append(output_layer)\n",
    "    return network"
   ]
  },
  {
   "cell_type": "code",
   "execution_count": 307,
   "metadata": {},
   "outputs": [],
   "source": [
    "n_inputs = 2\n",
    "hidden = 5\n",
    "n_outputs = 1\n",
    "\n",
    "network = initialize_network(n_inputs, hidden, n_outputs)"
   ]
  },
  {
   "cell_type": "code",
   "execution_count": 309,
   "metadata": {},
   "outputs": [],
   "source": [
    "def forward_propagate(network, row):\n",
    "    inputs = row\n",
    "    for layer in network:\n",
    "        new_inputs = []\n",
    "        for neuron in layer:\n",
    "\n",
    "            activation = activate(neuron['weights'], inputs)\n",
    "            neuron['output'] = transfer(activation)\n",
    "            new_inputs.append(neuron['output'])\n",
    "        inputs = new_inputs\n",
    "    return inputs"
   ]
  },
  {
   "cell_type": "code",
   "execution_count": 310,
   "metadata": {},
   "outputs": [
    {
     "data": {
      "text/plain": [
       "[0.9385046072822235]"
      ]
     },
     "execution_count": 310,
     "metadata": {},
     "output_type": "execute_result"
    }
   ],
   "source": [
    "ip = forward_propagate(network,[1,1])\n",
    "ip"
   ]
  },
  {
   "cell_type": "code",
   "execution_count": 321,
   "metadata": {},
   "outputs": [],
   "source": [
    "# Initialize a network\n",
    "def initialize_network(n_inputs, n_hidden, n_outputs):\n",
    "\tnetwork = list()\n",
    "\thidden_layer = [{'weights':[random() for i in range(n_inputs + 1)]} for i in range(n_hidden)]\n",
    "\tnetwork.append(hidden_layer)\n",
    "\toutput_layer = [{'weights':[random() for i in range(n_hidden + 1)]} for i in range(n_outputs)]\n",
    "\tnetwork.append(output_layer)\n",
    "\treturn network"
   ]
  },
  {
   "cell_type": "code",
   "execution_count": 340,
   "metadata": {},
   "outputs": [
    {
     "data": {
      "text/plain": [
       "[{'weights': [0.04002353689016469, 0.2396333648675093, 0.9881584986060327]},\n",
       " {'weights': [0.4210135874302673, 0.1155581805922733, 0.16738343746133177]},\n",
       " {'weights': [0.24142028509784308, 0.7440064165370084, 0.1028341459863098]},\n",
       " {'weights': [0.9107644182793333, 0.3782772705442261, 0.9702640365282106]}]"
      ]
     },
     "execution_count": 340,
     "metadata": {},
     "output_type": "execute_result"
    }
   ],
   "source": [
    "nw = initialize_network(2,4,1)\n",
    "nw[0]"
   ]
  },
  {
   "cell_type": "code",
   "execution_count": 352,
   "metadata": {},
   "outputs": [
    {
     "name": "stdout",
     "output_type": "stream",
     "text": [
      "[0.8207008131366805]\n"
     ]
    }
   ],
   "source": [
    "from math import exp\n",
    "\n",
    "# Calculate neuron activation for an input\n",
    "def activate(weights, inputs):\n",
    "    activation = weights[-1]\n",
    "    for i in range(len(weights)-1):\n",
    "        activation += weights[i] * inputs[i]\n",
    "    return activation\n",
    "\n",
    "# Transfer neuron activation\n",
    "def transfer(activation):\n",
    "    return 1.0 / (1.0 + exp(-activation))\n",
    "\n",
    "# Forward propagate input to a network output\n",
    "def forward_propagate(network, row):\n",
    "    inputs = row\n",
    "    \n",
    "    # cada layer tiene varias n\n",
    "    for layer in network:\n",
    "        new_inputs = []\n",
    "        for neuron in layer:\n",
    "\n",
    "            activation = activate(neuron['weights'], inputs)\n",
    "            neuron['output'] = transfer(activation)\n",
    "            new_inputs.append(neuron['output'])\n",
    "        inputs = new_inputs\n",
    "    return inputs\n",
    "\n",
    "# test forward propagation\n",
    "#network = [[{'weights': [0.13436424411240122, 0.8474337369372327, 0.763774618976614]}],\n",
    "#[{'weights': [0.2550690257394217, 0.49543508709194095]}, {'weights': [0.4494910647887381, 0.651592972722763]}]]\n",
    "row = [1, 0, None]\n",
    "output = forward_propagate(nw, row)\n",
    "print(output)"
   ]
  },
  {
   "cell_type": "code",
   "execution_count": 359,
   "metadata": {},
   "outputs": [
    {
     "name": "stdout",
     "output_type": "stream",
     "text": [
      "1\n",
      "0\n"
     ]
    }
   ],
   "source": [
    "for i in reversed(range(len(nw))):\n",
    "    print(i)"
   ]
  },
  {
   "cell_type": "code",
   "execution_count": 361,
   "metadata": {},
   "outputs": [
    {
     "data": {
      "text/plain": [
       "[[{'weights': [0.04002353689016469, 0.2396333648675093, 0.9881584986060327],\n",
       "   'output': 0.7365632937244371},\n",
       "  {'weights': [0.4210135874302673, 0.1155581805922733, 0.16738343746133177],\n",
       "   'output': 0.6429972643060575},\n",
       "  {'weights': [0.24142028509784308, 0.7440064165370084, 0.1028341459863098],\n",
       "   'output': 0.5852236035211598},\n",
       "  {'weights': [0.9107644182793333, 0.3782772705442261, 0.9702640365282106],\n",
       "   'output': 0.8677292122401729}],\n",
       " [{'weights': [0.9092227281507113,\n",
       "    0.29402358494854774,\n",
       "    0.2534101360411267,\n",
       "    0.47701009597226784,\n",
       "    0.10012914395045203],\n",
       "   'output': 0.8207008131366805}]]"
      ]
     },
     "execution_count": 361,
     "metadata": {},
     "output_type": "execute_result"
    }
   ],
   "source": [
    "nw"
   ]
  },
  {
   "cell_type": "code",
   "execution_count": 343,
   "metadata": {},
   "outputs": [
    {
     "data": {
      "text/plain": [
       "1.571998640607758"
      ]
     },
     "execution_count": 343,
     "metadata": {},
     "output_type": "execute_result"
    }
   ],
   "source": [
    "np.shape(W)\n",
    "\n",
    "\n",
    "np.matmul(W[:-1,0], np.array([1,1]))+W[-1,0]\n",
    "\n"
   ]
  },
  {
   "cell_type": "code",
   "execution_count": 288,
   "metadata": {},
   "outputs": [
    {
     "data": {
      "text/plain": [
       "1.571998640607758"
      ]
     },
     "execution_count": 288,
     "metadata": {},
     "output_type": "execute_result"
    }
   ],
   "source": [
    "weights = W[:,0]\n",
    "inputs =  np.array([1,1])\n",
    "\n",
    "def activate(weights, inputs):\n",
    "    activation = weights[:-1]\n",
    "    bias = weights[-1]\n",
    "    activation = np.matmul(activation, inputs)+ bias\n",
    "    return activation\n",
    "\n",
    "# Transfer neuron activation\n",
    "def transfer(activation):\n",
    "    return 1.0 / (1.0 + np.exp(-activation))\n",
    "    \n",
    "# Forward propagate input to a network output\n",
    "def forward_propagate(W, row):\n",
    "    inputs=row\n",
    "    new_inputs = []\n",
    "    for layer in W.T:\n",
    "        activation = activate(layer, inputs)\n",
    "        neuron = transfer(activation)\n",
    "        new_inputs.append(neuron)\n",
    "    return new_inputs\n",
    "\n",
    "\n"
   ]
  },
  {
   "cell_type": "code",
   "execution_count": 294,
   "metadata": {},
   "outputs": [
    {
     "data": {
      "text/plain": [
       "[0.8280683436552196,\n",
       " 0.7143081817806245,\n",
       " 0.7551972605475672,\n",
       " 0.8360231366635603,\n",
       " 0.8135540951010134]"
      ]
     },
     "execution_count": 294,
     "metadata": {},
     "output_type": "execute_result"
    }
   ],
   "source": [
    "inputs = [1,1]\n",
    "forward_propagate(W,inputs)\n",
    "    \n"
   ]
  },
  {
   "cell_type": "code",
   "execution_count": 273,
   "metadata": {},
   "outputs": [
    {
     "data": {
      "text/plain": [
       "array([[0.67227436, 0.49609619, 0.6012662 , 0.03223497, 0.19383452],\n",
       "       [0.50825367, 0.00767076, 0.28360918, 0.96137032, 0.47813305],\n",
       "       [0.3914706 , 0.41263388, 0.24165086, 0.63532566, 0.8013037 ]])"
      ]
     },
     "execution_count": 273,
     "metadata": {},
     "output_type": "execute_result"
    }
   ],
   "source": [
    "W"
   ]
  },
  {
   "cell_type": "code",
   "execution_count": null,
   "metadata": {},
   "outputs": [],
   "source": []
  }
 ],
 "metadata": {
  "kernelspec": {
   "display_name": "Python 3",
   "language": "python",
   "name": "python3"
  },
  "language_info": {
   "codemirror_mode": {
    "name": "ipython",
    "version": 3
   },
   "file_extension": ".py",
   "mimetype": "text/x-python",
   "name": "python",
   "nbconvert_exporter": "python",
   "pygments_lexer": "ipython3",
   "version": "3.7.6"
  }
 },
 "nbformat": 4,
 "nbformat_minor": 4
}
