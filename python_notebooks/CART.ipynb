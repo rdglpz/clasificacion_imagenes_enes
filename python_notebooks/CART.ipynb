{
 "cells": [
  {
   "cell_type": "markdown",
   "id": "40b58b84",
   "metadata": {},
   "source": [
    "# Tutorial Implementación CART en Python\n",
    "\n",
    "\n",
    "https://machinelearningmastery.com/implement-decision-tree-algorithm-scratch-python/"
   ]
  },
  {
   "cell_type": "markdown",
   "id": "55ab7d36",
   "metadata": {},
   "source": [
    "1. Índice Gini\n",
    "2. Crear divisiones\n",
    "3. Construir el arbol"
   ]
  },
  {
   "cell_type": "markdown",
   "id": "29a61c1b",
   "metadata": {},
   "source": [
    "## El índice Gini\n",
    "\n",
    "$\\sum_{c=1}^C \\hat{\\pi}(1-\\hat{\\pi}_c) = 1 - \\sum_{c}\\hat{\\pi}^2_c$\n",
    "\n",
    "Donde $\\hat{\\pi}_c = \\frac{1}{|D|}\\sum_{i\\in D} I (y_i=c)$\n",
    "\n",
    "\n",
    "* Es una funcón de costo utilizada para evaluar divisiones en el conjunto de datos\n",
    "* Involucra un atributo y un valor de ese atributo. Se utiliza para dividir patrones de entrenamiento en dos grupos.\n",
    "* El índice Gini nos dice que tan bien las clases estan separadas por dos grupos dada un parámetro o umbral de separación. \n",
    "* La mejor separación tendría un índice de 0 y la peor 0.5.\n",
    "\n",
    "\n",
    "\n",
    "\n",
    "**Ejemplo**\n",
    "\n",
    "Se tienen dos grupos que son divididos de alguna manera:\n",
    "\n",
    "En el grupo 1 tenemos todos los elementos pertenecientes a la clase 0  \n",
    "En el grupo 2 tenemos todos los elementos pertenecientes a la clase 1 \n",
    "\n",
    "\n"
   ]
  },
  {
   "cell_type": "code",
   "execution_count": 108,
   "id": "2d01e518",
   "metadata": {},
   "outputs": [
    {
     "name": "stdout",
     "output_type": "stream",
     "text": [
      "0.5\n",
      "0.0\n"
     ]
    }
   ],
   "source": [
    "# Calcula el índice Gini para un conjunto de datos dividido.\n",
    "\n",
    "def gini_index(groups, classes):\n",
    "    \n",
    "    # Contar el número de elementos que existen en groups que son los elementos pertenecientes a una división\n",
    "    n_instances = float(sum([len(group) for group in groups]))\n",
    "    \n",
    "    # suma pesada inicializada del indice Gini para cada grupo\n",
    "    gini = 0.0\n",
    "    \n",
    "    #por cada grupo, y cada clase ([1,0]) hacer:\n",
    "    for group in groups:\n",
    "        \n",
    "        #calculo del numero de elementos de un grupo\n",
    "        size = float(len(group))\n",
    "        \n",
    "        # Evitar divisiones sobre cero\n",
    "        if size == 0:\n",
    "            continue\n",
    "        \n",
    "        #inicializar score por cada grupo\n",
    "        score = 0.0\n",
    "        \n",
    "        # anotar el score por cada clase classes = C\n",
    "        for class_val in classes:\n",
    "            \n",
    "            #contamos la proporción de elementos perteneciente a class_val\n",
    "            #p=\\hat{pi}, size = |S|\n",
    "            p = [row[-1] for row in group].count(class_val) / size\n",
    "            score += p * p\n",
    "            \n",
    "        # pesar el indice del grupo por su tamaño relativo para compensar clases desbalanceadas\n",
    "        gini += (1.0 - score) * (size / n_instances)\n",
    "    return gini\n",
    "\n",
    "# test Gini values\n",
    "print(gini_index([[[1, 1], [1, 0]], [[1, 1], [1, 0]]], [0, 1]))\n",
    "print(gini_index([[[1, 0], [1, 0]], [[1, 1], [1, 1]]], [0, 1]))"
   ]
  },
  {
   "cell_type": "code",
   "execution_count": 109,
   "id": "f0be3ac9",
   "metadata": {},
   "outputs": [
    {
     "data": {
      "text/plain": [
       "[2, 2, 3]"
      ]
     },
     "execution_count": 109,
     "metadata": {},
     "output_type": "execute_result"
    }
   ],
   "source": [
    "import matplotlib.pyplot as plt\n",
    "import numpy as np\n",
    "\n",
    "groups = [[[1, 1], [0, 0]], [[1, 1], [1, 0]],[[1,1],[1,1],[1,1]]]\n",
    "classes = [0, 1]\n",
    "\n",
    "[len(group) for group in groups]"
   ]
  },
  {
   "cell_type": "code",
   "execution_count": 110,
   "id": "5bd73c8a",
   "metadata": {},
   "outputs": [],
   "source": [
    "n_instances = float(sum([len(group) for group in groups]))"
   ]
  },
  {
   "cell_type": "code",
   "execution_count": 111,
   "id": "466e8788",
   "metadata": {},
   "outputs": [
    {
     "data": {
      "text/plain": [
       "1"
      ]
     },
     "execution_count": 111,
     "metadata": {},
     "output_type": "execute_result"
    }
   ],
   "source": [
    "[0,1,0,0].count(1) "
   ]
  },
  {
   "cell_type": "code",
   "execution_count": 112,
   "id": "810c40cc",
   "metadata": {},
   "outputs": [
    {
     "data": {
      "text/plain": [
       "7.0"
      ]
     },
     "execution_count": 112,
     "metadata": {},
     "output_type": "execute_result"
    }
   ],
   "source": [
    "float(sum([len(group) for group in groups]))"
   ]
  },
  {
   "cell_type": "code",
   "execution_count": 113,
   "id": "81ed3fcd",
   "metadata": {},
   "outputs": [],
   "source": [
    "row = [0,1,2]"
   ]
  },
  {
   "cell_type": "markdown",
   "id": "0bcd4835",
   "metadata": {},
   "source": [
    "## Crear Divisiones\n",
    "\n",
    "Una división (*split*), esta compuesto de un atributo en el conjunto de datos y un valor *umbral* necesario para definir hasta que valor separamos los datos.\n",
    "\n",
    "```\n",
    " |\n",
    "[a1,a2,a3]\n",
    " \n",
    "```\n",
    "En este paso se separa el conjunto de datos en dos listas de *renglones* según un (el índice de un) atributo y una valor o umbral de división.\n",
    "\n",
    "Crear una división involucra:\n",
    "\n",
    "(1. Calcular el índice Gini de una división.)\n",
    "2. Dividir el conjunto de datos.\n",
    "3. Evaluando todos las divisiones.\n",
    "\n",
    "\n",
    "Una vez que tenemos dos grupos, los evaluamos con el índice Gini.\n",
    "\n",
    "\n",
    "\n"
   ]
  },
  {
   "cell_type": "code",
   "execution_count": 114,
   "id": "5441598c",
   "metadata": {},
   "outputs": [],
   "source": [
    "### Dividiendo el conjunto de datos"
   ]
  },
  {
   "cell_type": "code",
   "execution_count": 115,
   "id": "ac45a2ff",
   "metadata": {},
   "outputs": [],
   "source": [
    "# Dividir un conjunto de datos basado en un atributo y un valor de atributo (umbral)\n",
    "\n",
    "def test_split(index, value, dataset):\n",
    "    '''\n",
    "    index: atributo seleccionado para partir\n",
    "    value: umbral del atributo que divide el grupo de datos en dos\n",
    "    '''\n",
    "    left, right = list(), list()\n",
    "    \n",
    "    #index indicate the atribute of interest to split the data\n",
    "    # Creamos los dos grupos de acuerdo al valor umbral *value*\n",
    "    for row in dataset:\n",
    "        if row[index] < value:\n",
    "            left.append(row)\n",
    "        else:\n",
    "            right.append(row)\n",
    "    return left, right"
   ]
  },
  {
   "cell_type": "markdown",
   "id": "dd44d823",
   "metadata": {},
   "source": [
    "## Evaluando todos las divisiones.\n",
    "\n",
    "Dado un conjunto de datos debemos checar cada umbral candidato en cada atributo, evaluar el costo de cada división y encontrar la mejor división posible.\n",
    "\n",
    "Una vez que encontramos el mejor punto de división lo usamos como nodo en nuesto arbol de decisión.\n",
    "\n",
    "Esta estrategia se le llama algoritmo glotón, o estrategia exhaustiva.\n",
    "\n",
    "\n"
   ]
  },
  {
   "cell_type": "code",
   "execution_count": 116,
   "id": "6ac8d5a9",
   "metadata": {},
   "outputs": [],
   "source": [
    "\n",
    "# Seleccionar el mejor punto de división para un conjunto de datos\n",
    "def get_split(dataset):\n",
    "    \n",
    "    \n",
    "    #obtenemos las diferentes clases posibles que se encuentran en la última columan\n",
    "    C = [row[-1] for row in dataset]\n",
    "    class_values = list(set(C))\n",
    "    \n",
    "    #inicializamos valores\n",
    "    b_index, b_value, b_score, b_groups = 999, 999, 999, None\n",
    "    \n",
    "    #recorremos las columnas excepto la última columna que es la etiqueta de la clase\n",
    "    for index in range(len(dataset[0])-1):\n",
    "        \n",
    "        #por cada elemento del conjunto de datos\n",
    "        for row in dataset:\n",
    "            \n",
    "            #dividimos en dos grupos grupos\n",
    "            value = row[index]\n",
    "            groups = test_split(index, value, dataset)\n",
    "            \n",
    "            #evaluamos esa división de acuerdo index y value\n",
    "            gini = gini_index(groups, class_values)\n",
    "            \n",
    "            print('X%d < %.3f Gini=%.3f' % ((index+1), row[index], gini))\n",
    "            \n",
    "            #guardamos el indice, el atributo, y grupos asociados al menor indice gini\n",
    "            if gini < b_score:\n",
    "                b_index, b_value, b_score, b_groups = index, row[index], gini, groups\n",
    "    return {'index':b_index, 'value':b_value, 'groups':b_groups}"
   ]
  },
  {
   "cell_type": "code",
   "execution_count": 117,
   "id": "93b6bd90",
   "metadata": {},
   "outputs": [],
   "source": [
    "dataset = [\n",
    "[2.77,1.78,0],\n",
    "[1.72,1.16,0],\n",
    "[3.67,2.81,0],\n",
    "[3.96,2.61,0],\n",
    "[2.99,2.20,0],\n",
    "[7.49,3.16,1],\n",
    "[9.00,3.33,1],\n",
    "[7.44,0.47,1],\n",
    "[10.12,3.23,1],\n",
    "[6.64,3.31,1]\n",
    "]"
   ]
  },
  {
   "cell_type": "code",
   "execution_count": 118,
   "id": "fc35522f",
   "metadata": {},
   "outputs": [
    {
     "name": "stdout",
     "output_type": "stream",
     "text": [
      "X1 < 2.770 Gini=0.444\n",
      "X1 < 1.720 Gini=0.500\n",
      "X1 < 3.670 Gini=0.286\n",
      "X1 < 3.960 Gini=0.167\n",
      "X1 < 2.990 Gini=0.375\n",
      "X1 < 7.490 Gini=0.286\n",
      "X1 < 9.000 Gini=0.375\n",
      "X1 < 7.440 Gini=0.167\n",
      "X1 < 10.120 Gini=0.444\n",
      "X1 < 6.640 Gini=0.000\n",
      "X2 < 1.780 Gini=0.500\n",
      "X2 < 1.160 Gini=0.444\n",
      "X2 < 2.810 Gini=0.320\n",
      "X2 < 2.610 Gini=0.417\n",
      "X2 < 2.200 Gini=0.476\n",
      "X2 < 3.160 Gini=0.167\n",
      "X2 < 3.330 Gini=0.444\n",
      "X2 < 0.470 Gini=0.500\n",
      "X2 < 3.230 Gini=0.286\n",
      "X2 < 3.310 Gini=0.375\n",
      "Split: [X1 < 6.640]\n"
     ]
    }
   ],
   "source": [
    "#Ejemplo: calculando el índice Gini para todas las combinaciones de umbrales $\\times$ atributos\n",
    "\n",
    "split = get_split(dataset)\n",
    "print('Split: [X%d < %.3f]' % ((split['index']+1), split['value']))"
   ]
  },
  {
   "cell_type": "markdown",
   "id": "3c306585",
   "metadata": {},
   "source": [
    "### Nodos Terminales\n",
    "\n",
    "Necesitamos un mecanismo para decidir cuando detener el crecimiento del ábol.\n",
    "\n",
    "Dos estrategias son:\n",
    "Definir unaprofunidad máxima \n",
    "Definir el número de elementos mínimo que el nodo puede partir para el conjunto de datos.\n",
    "\n",
    "Árboles profundos son mas complejos y suceptibles a sobreajustar los datos de entrenamiento.\n",
    "\n",
    "Nodos con pocos elementos de entrenamiento tienden a sobreajustarse.\n"
   ]
  },
  {
   "cell_type": "code",
   "execution_count": 161,
   "id": "c96e8164",
   "metadata": {},
   "outputs": [],
   "source": [
    "# Funcion auxiliar para generar un nodo terminal sin hojas.\n",
    "def to_terminal(group):\n",
    "    '''\n",
    "    Recibe dos grupos (listas) de datos de entrenamiento\n",
    "\n",
    "    Regresa el valor de salida mas comun  en el grupo.\n",
    "    '''\n",
    "    \n",
    "    outcomes = [row[-1] for row in group]\n",
    "    print(\"outcomes.count: \",max(set(outcomes), key=outcomes.count))\n",
    "    return max(set(outcomes), key=outcomes.count)"
   ]
  },
  {
   "cell_type": "code",
   "execution_count": null,
   "id": "fbc93509",
   "metadata": {},
   "outputs": [],
   "source": []
  },
  {
   "cell_type": "markdown",
   "id": "73630a33",
   "metadata": {},
   "source": [
    "### División recursiva\n",
    "\n",
    "Con las funciones \n",
    "\n",
    "Construir un árbol de clasificación involucra llamar la función get_split sobre los grupos generados de marea recursiva para cada nodo.\n",
    "\n",
    "Los nodos nuevos que se agregan son llamados nodos hijos.\n"
   ]
  },
  {
   "cell_type": "code",
   "execution_count": null,
   "id": "47800886",
   "metadata": {},
   "outputs": [],
   "source": []
  },
  {
   "cell_type": "code",
   "execution_count": 153,
   "id": "2c47e316",
   "metadata": {},
   "outputs": [],
   "source": [
    "# Construye el árbol de manera recursiva mientras no se cumpla la condicion para detener el crecimiento del arbol\n",
    "# \n",
    "\n",
    "def split(node, max_depth, min_size, depth):\n",
    "    '''\n",
    "    node tiene la estructura \n",
    "    \n",
    "    {\n",
    "    'index': 0,\n",
    "    'value': 6.64,\n",
    "    'groups': ([...],[...])\n",
    "    }\n",
    "    '''\n",
    "    print(\"grupos\")\n",
    "    print(node['groups'])\n",
    "    left, right = node['groups']\n",
    "    del(node['groups'])\n",
    "    \n",
    "    # Si son grupos vacíos, hacer de nodo left y right  terminales\n",
    "    if not left or not right:\n",
    "        node['left'] = node['right'] = to_terminal(left + right)\n",
    "        return\n",
    "    \n",
    "    # Si la profunidad maxima es rebasada, detenemos el crecimiento del arbol\n",
    "    # asignando los grupos de datos a nodo left y right\n",
    "    if depth >= max_depth:\n",
    "        node['left'], node['right'] = to_terminal(left), to_terminal(right)\n",
    "        return\n",
    "    \n",
    "    # si el nodo izq tiene menos elementos, detener y asignar el grupo de datos left\n",
    "    # Si no dividir los datos, asignarlos al nodo left y crecer por el nodo left\n",
    "    if len(left) <= min_size:\n",
    "        node['left'] = to_terminal(left)\n",
    "    else:\n",
    "        node['left'] = get_split(left)\n",
    "        split(node['left'], max_depth, min_size, depth+1)\n",
    "        \n",
    "    # lo mismo que el anterior\n",
    "    if len(right) <= min_size:\n",
    "        node['right'] = to_terminal(right)\n",
    "    else:\n",
    "        node['right'] = get_split(right)\n",
    "        split(node['right'], max_depth, min_size, depth+1)\n",
    "        \n",
    "        \n",
    "    "
   ]
  },
  {
   "cell_type": "code",
   "execution_count": null,
   "id": "0c894b69",
   "metadata": {},
   "outputs": [],
   "source": []
  },
  {
   "cell_type": "markdown",
   "id": "1f021efa",
   "metadata": {},
   "source": [
    "3.3. Construyendo el Arbol"
   ]
  },
  {
   "cell_type": "code",
   "execution_count": 154,
   "id": "88e1f861",
   "metadata": {},
   "outputs": [],
   "source": [
    "# Construyendo un arbol de decición \n",
    "def build_tree(train, max_depth, min_size):\n",
    "    root = get_split(train)\n",
    "    split(root, max_depth, min_size, 1)\n",
    "    return root"
   ]
  },
  {
   "cell_type": "code",
   "execution_count": 155,
   "id": "32515610",
   "metadata": {},
   "outputs": [],
   "source": [
    "# Print a decision tree\n",
    "def print_tree(node, depth=0):\n",
    "    if isinstance(node, dict):\n",
    "        print('%s[X%d < %.3f]' % ((depth*' ', (node['index']+1), node['value'])))\n",
    "        print_tree(node['left'], depth+1)\n",
    "        print_tree(node['right'], depth+1)\n",
    "    else:\n",
    "        print('%s[%s]' % ((depth*' ', node)))"
   ]
  },
  {
   "cell_type": "code",
   "execution_count": 162,
   "id": "7c30f628",
   "metadata": {},
   "outputs": [
    {
     "name": "stdout",
     "output_type": "stream",
     "text": [
      "X1 < 2.770 Gini=0.444\n",
      "X1 < 1.720 Gini=0.500\n",
      "X1 < 3.670 Gini=0.286\n",
      "X1 < 3.960 Gini=0.167\n",
      "X1 < 2.990 Gini=0.375\n",
      "X1 < 7.490 Gini=0.286\n",
      "X1 < 9.000 Gini=0.375\n",
      "X1 < 7.440 Gini=0.167\n",
      "X1 < 10.120 Gini=0.444\n",
      "X1 < 6.640 Gini=0.000\n",
      "X2 < 1.780 Gini=0.500\n",
      "X2 < 1.160 Gini=0.444\n",
      "X2 < 2.810 Gini=0.320\n",
      "X2 < 2.610 Gini=0.417\n",
      "X2 < 2.200 Gini=0.476\n",
      "X2 < 3.160 Gini=0.167\n",
      "X2 < 3.330 Gini=0.444\n",
      "X2 < 0.470 Gini=0.500\n",
      "X2 < 3.230 Gini=0.286\n",
      "X2 < 3.310 Gini=0.375\n",
      "grupos\n",
      "([[2.77, 1.78, 0], [1.72, 1.16, 0], [3.67, 2.81, 0], [3.96, 2.61, 0], [2.99, 2.2, 0]], [[7.49, 3.16, 1], [9.0, 3.33, 1], [7.44, 0.47, 1], [10.12, 3.23, 1], [6.64, 3.31, 1]])\n",
      "outcomes.count:  0\n",
      "outcomes.count:  1\n",
      "[X1 < 6.640]\n",
      " [0]\n",
      " [1]\n"
     ]
    }
   ],
   "source": [
    "tree = build_tree(dataset, 1, 1)\n",
    "print_tree(tree)"
   ]
  },
  {
   "cell_type": "markdown",
   "id": "6b04ca34",
   "metadata": {},
   "source": [
    "4. Hacer predicciones"
   ]
  },
  {
   "cell_type": "code",
   "execution_count": null,
   "id": "e63706ce",
   "metadata": {},
   "outputs": [],
   "source": []
  },
  {
   "cell_type": "code",
   "execution_count": 143,
   "id": "f06e5c5a",
   "metadata": {},
   "outputs": [],
   "source": [
    "a,b = ([[2.77, 1.78, 0], [1.72, 1.16, 0], [3.67, 2.81, 0], [3.96, 2.61, 0], [2.99, 2.2, 0]], [[7.49, 3.16, 1], [9.0, 3.33, 1], [7.44, 0.47, 1], [10.12, 3.23, 1], [6.64, 3.31, 1]])"
   ]
  },
  {
   "cell_type": "code",
   "execution_count": 144,
   "id": "946c129e",
   "metadata": {},
   "outputs": [
    {
     "data": {
      "text/plain": [
       "[[2.77, 1.78, 0],\n",
       " [1.72, 1.16, 0],\n",
       " [3.67, 2.81, 0],\n",
       " [3.96, 2.61, 0],\n",
       " [2.99, 2.2, 0],\n",
       " [7.49, 3.16, 1],\n",
       " [9.0, 3.33, 1],\n",
       " [7.44, 0.47, 1],\n",
       " [10.12, 3.23, 1],\n",
       " [6.64, 3.31, 1]]"
      ]
     },
     "execution_count": 144,
     "metadata": {},
     "output_type": "execute_result"
    }
   ],
   "source": [
    "a+b"
   ]
  },
  {
   "cell_type": "code",
   "execution_count": null,
   "id": "9b9542e8",
   "metadata": {},
   "outputs": [],
   "source": []
  },
  {
   "cell_type": "code",
   "execution_count": 65,
   "id": "16b81bd6",
   "metadata": {},
   "outputs": [],
   "source": [
    "# Make a prediction with a decision tree\n",
    "def predict(node, row):\n",
    "    if row[node['index']] < node['value']:\n",
    "        if isinstance(node['left'], dict):\n",
    "            return predict(node['left'], row)\n",
    "        else:\n",
    "            return node['left']\n",
    "    else:\n",
    "        if isinstance(node['right'], dict):\n",
    "            return predict(node['right'], row)\n",
    "        else:\n",
    "            return node['right']"
   ]
  },
  {
   "cell_type": "code",
   "execution_count": 66,
   "id": "de90084e",
   "metadata": {},
   "outputs": [
    {
     "name": "stdout",
     "output_type": "stream",
     "text": [
      "Expected=0, Got=0\n",
      "Expected=0, Got=0\n",
      "Expected=0, Got=0\n",
      "Expected=0, Got=0\n",
      "Expected=0, Got=0\n",
      "Expected=1, Got=1\n",
      "Expected=1, Got=1\n",
      "Expected=1, Got=1\n",
      "Expected=1, Got=1\n",
      "Expected=1, Got=1\n"
     ]
    }
   ],
   "source": [
    "# Make a prediction with a decision tree\n",
    "def predict(node, row):\n",
    "    if row[node['index']] < node['value']:\n",
    "        if isinstance(node['left'], dict):\n",
    "            return predict(node['left'], row)\n",
    "        else:\n",
    "            return node['left']\n",
    "    else:\n",
    "        if isinstance(node['right'], dict):\n",
    "            return predict(node['right'], row)\n",
    "        else:\n",
    "            return node['right']\n",
    " \n",
    "dataset = [[2.771244718,1.784783929,0],\n",
    "[1.728571309,1.169761413,0],\n",
    "[3.678319846,2.81281357,0],\n",
    "[3.961043357,2.61995032,0],\n",
    "[2.999208922,2.209014212,0],\n",
    "[7.497545867,3.162953546,1],\n",
    "[9.00220326,3.339047188,1],\n",
    "[7.444542326,0.476683375,1],\n",
    "[10.12493903,3.234550982,1],\n",
    "[6.642287351,3.319983761,1]]\n",
    " \n",
    "#  predict with a stump\n",
    "stump = {'index': 0, 'right': 1, 'value': 6.642287351, 'left': 0}\n",
    "for row in dataset:\n",
    "    prediction = predict(stump, row)\n",
    "    print('Expected=%d, Got=%d' % (row[-1], prediction))"
   ]
  },
  {
   "cell_type": "markdown",
   "id": "575c66b3",
   "metadata": {},
   "source": [
    "Referencias\n",
    "Implementación en scikit learn\n",
    "\n",
    "https://www.datacamp.com/community/tutorials/decision-tree-classification-python?utm_source=adwords_ppc&utm_campaignid=1455363063&utm_adgroupid=65083631748&utm_device=c&utm_keyword=&utm_matchtype=b&utm_network=g&utm_adpostion=&utm_creative=332602034358&utm_targetid=aud-390929969673:dsa-429603003980&utm_loc_interest_ms=&utm_loc_physical_ms=1010110&gclid=Cj0KCQjwpdqDBhCSARIsAEUJ0hO62Hlf-3oYblq8AbxroCRoAsKTYVVtFVXSycr1Ftai_vqOSzHgPb0aAvSqEALw_wcB\n",
    "\n",
    "https://blog.quantinsti.com/gini-index/"
   ]
  },
  {
   "cell_type": "code",
   "execution_count": null,
   "id": "594908e0",
   "metadata": {},
   "outputs": [],
   "source": []
  }
 ],
 "metadata": {
  "kernelspec": {
   "display_name": "Python 3",
   "language": "python",
   "name": "python3"
  },
  "language_info": {
   "codemirror_mode": {
    "name": "ipython",
    "version": 3
   },
   "file_extension": ".py",
   "mimetype": "text/x-python",
   "name": "python",
   "nbconvert_exporter": "python",
   "pygments_lexer": "ipython3",
   "version": "3.7.0"
  }
 },
 "nbformat": 4,
 "nbformat_minor": 5
}
