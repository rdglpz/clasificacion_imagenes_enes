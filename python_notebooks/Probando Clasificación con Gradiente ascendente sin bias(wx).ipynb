{
 "cells": [
  {
   "cell_type": "markdown",
   "metadata": {},
   "source": [
    "# Probando Clasificación con Gradiente descendente"
   ]
  },
  {
   "cell_type": "code",
   "execution_count": 2,
   "metadata": {},
   "outputs": [],
   "source": [
    "import numpy as np\n",
    "import matplotlib.pyplot as plt"
   ]
  },
  {
   "cell_type": "markdown",
   "metadata": {},
   "source": [
    "**Generando dos clases sintéticas con medias $\\mu_0 \\neq \\mu_1$**"
   ]
  },
  {
   "cell_type": "code",
   "execution_count": 3,
   "metadata": {},
   "outputs": [
    {
     "data": {
      "text/plain": [
       "<matplotlib.collections.PathCollection at 0x7fe1c94a80b8>"
      ]
     },
     "execution_count": 3,
     "metadata": {},
     "output_type": "execute_result"
    },
    {
     "data": {
      "image/png": "[encoded data removed]",
      "text/plain": [
       "<Figure size 432x288 with 1 Axes>"
      ]
     },
     "metadata": {
      "needs_background": "light"
     },
     "output_type": "display_data"
    }
   ],
   "source": [
    "mean00 = [10,10]\n",
    "mean01 = [15,20]\n",
    "\n",
    "cov00 = [[2,0],[0,2]]\n",
    "cov01 = [[2,0],[0,2]]\n",
    "\n",
    "class00 = np.random.multivariate_normal(mean00, cov00, size=100, check_valid='warn', tol=1e-8)\n",
    "class01 = np.random.multivariate_normal(mean01, cov01, size=100, check_valid='warn', tol=1e-8)\n",
    "\n",
    "plt.scatter(class00[:,0],class00[:,1])\n",
    "plt.scatter(class01[:,0],class01[:,1])"
   ]
  },
  {
   "cell_type": "markdown",
   "metadata": {},
   "source": [
    "**Generando una sola base de datos de datos clasificados**"
   ]
  },
  {
   "cell_type": "code",
   "execution_count": null,
   "metadata": {},
   "outputs": [],
   "source": []
  },
  {
   "cell_type": "code",
   "execution_count": 5,
   "metadata": {},
   "outputs": [
    {
     "data": {
      "text/plain": [
       "200"
      ]
     },
     "execution_count": 5,
     "metadata": {},
     "output_type": "execute_result"
    }
   ],
   "source": [
    "zeros = np.zeros(len(class00)).T\n",
    "labeled_class00 = np.append(class00,np.transpose([zeros]),axis=1)\n",
    "labeled_class01 = np.append(class01,np.transpose([zeros])+1,axis=1)\n",
    "labeled_classes = np.append(labeled_class00,labeled_class01,axis=0)\n",
    "len(labeled_classes)"
   ]
  },
  {
   "cell_type": "markdown",
   "metadata": {},
   "source": [
    "Definimos nuestra función de \"costo\". Decidimos implementar la derivada de la verosimilitud \n",
    "\n",
    "$\\frac{\\partial LL(\\theta)}{\\partial \\theta_j} = \\sum_{i=1}^n [y_i-sigm(\\theta^T\\mathbf{x}_i)]x_j$\n",
    "\n",
    "\n",
    "Bias = $\\theta_0, x_0 = 1$\n",
    "\n",
    "$\\frac{\\partial LL(\\theta)}{\\partial \\theta_j} = \\sum_{i=1}^n [y_i-sigm(\\theta^T\\mathbf{x}_i+\\theta_0)]x_j$\n",
    "\n",
    "$\\frac{\\partial LL(\\theta)}{\\partial \\theta_{0}} = \\sum_{i=1}^n [y_i-sigm(\\theta^T\\mathbf{x}_i+\\theta_0)]*1$\n"
   ]
  },
  {
   "cell_type": "markdown",
   "metadata": {},
   "source": [
    "**La programación de la derivada de la función de costo **"
   ]
  },
  {
   "cell_type": "code",
   "execution_count": 12,
   "metadata": {},
   "outputs": [
    {
     "data": {
      "text/plain": [
       "array([[ 9.18855213,  8.9837492 ,  0.        ],\n",
       "       [14.44293373, 21.01610845,  1.        ],\n",
       "       [ 9.56513535,  8.62553028,  0.        ],\n",
       "       [13.30327036, 19.32897736,  1.        ],\n",
       "       [16.02794643, 22.54524144,  1.        ],\n",
       "       [ 9.79076003, 10.9758656 ,  0.        ],\n",
       "       [ 8.96745073, 11.51714962,  0.        ],\n",
       "       [ 9.7397799 ,  9.96378091,  0.        ],\n",
       "       [14.95917874, 19.56586539,  1.        ],\n",
       "       [ 9.95583916,  9.00790547,  0.        ],\n",
       "       [ 9.42447285, 11.06878434,  0.        ],\n",
       "       [16.40911119, 19.04915646,  1.        ],\n",
       "       [15.35055569, 19.23397787,  1.        ],\n",
       "       [13.32856413, 21.66533456,  1.        ],\n",
       "       [14.44696739, 17.20144949,  1.        ],\n",
       "       [16.54908726, 20.21070313,  1.        ],\n",
       "       [ 9.57684623,  8.15682877,  0.        ],\n",
       "       [13.7943949 , 17.61934964,  1.        ],\n",
       "       [16.56109251, 19.98009353,  1.        ],\n",
       "       [12.50722457, 17.66773948,  1.        ],\n",
       "       [15.41906762, 18.51197046,  1.        ],\n",
       "       [ 9.98866477, 12.2587798 ,  0.        ],\n",
       "       [13.87053061, 19.89346847,  1.        ],\n",
       "       [10.56426804, 12.92061964,  0.        ],\n",
       "       [12.01020789,  9.97697764,  0.        ],\n",
       "       [10.59244536,  9.80399663,  0.        ],\n",
       "       [10.07797952, 13.09939148,  0.        ],\n",
       "       [15.05170697, 22.12383716,  1.        ],\n",
       "       [10.51069279, 11.2514092 ,  0.        ],\n",
       "       [10.88288807, 10.85588307,  0.        ],\n",
       "       [10.85626348, 11.11635203,  0.        ],\n",
       "       [ 8.55550338, 10.29829996,  0.        ],\n",
       "       [ 9.16557875,  9.76224426,  0.        ],\n",
       "       [15.39711542, 18.86935154,  1.        ],\n",
       "       [12.58632639, 21.50790401,  1.        ],\n",
       "       [15.02876013, 19.04994969,  1.        ],\n",
       "       [ 7.59065133, 10.48237713,  0.        ],\n",
       "       [15.5263968 , 19.20772223,  1.        ],\n",
       "       [ 9.81519794,  9.37949221,  0.        ],\n",
       "       [11.55746091, 11.07752058,  0.        ],\n",
       "       [ 8.56509023, 11.48536302,  0.        ],\n",
       "       [11.173153  ,  9.22763671,  0.        ],\n",
       "       [17.07468757, 22.94636072,  1.        ],\n",
       "       [14.89466291, 19.92947097,  1.        ],\n",
       "       [10.09010916,  8.70236793,  0.        ],\n",
       "       [15.5979601 , 17.93071918,  1.        ],\n",
       "       [10.17880283,  5.12397525,  0.        ],\n",
       "       [10.57224363, 11.63688863,  0.        ],\n",
       "       [16.08150842, 22.45968751,  1.        ],\n",
       "       [16.41993157, 22.63449049,  1.        ],\n",
       "       [13.89302665, 16.6072033 ,  1.        ],\n",
       "       [15.5400724 , 19.16199079,  1.        ],\n",
       "       [15.58834149, 21.19746306,  1.        ],\n",
       "       [ 8.18707535, 10.61858072,  0.        ],\n",
       "       [14.65744568, 20.46000701,  1.        ],\n",
       "       [14.55339177, 18.85848842,  1.        ],\n",
       "       [12.233683  , 11.49040437,  0.        ],\n",
       "       [ 8.19217492,  9.12234939,  0.        ],\n",
       "       [10.9391568 , 12.01057186,  0.        ],\n",
       "       [12.17417496,  9.97681034,  0.        ],\n",
       "       [ 9.20959269,  8.97156859,  0.        ],\n",
       "       [10.91043198,  7.40371972,  0.        ],\n",
       "       [11.6251756 , 10.05324217,  0.        ],\n",
       "       [ 9.79047142, 10.53491687,  0.        ],\n",
       "       [16.53358168, 21.19224797,  1.        ],\n",
       "       [10.19387643,  8.10349746,  0.        ],\n",
       "       [13.33046749, 18.80731929,  1.        ],\n",
       "       [15.40167802, 16.9282551 ,  1.        ],\n",
       "       [14.28759746, 18.9118825 ,  1.        ],\n",
       "       [16.2227636 , 21.56843631,  1.        ],\n",
       "       [11.02998951,  6.83254947,  0.        ],\n",
       "       [ 9.64963976, 10.39115826,  0.        ],\n",
       "       [13.56298137, 22.92637257,  1.        ],\n",
       "       [14.08581104, 19.28178081,  1.        ],\n",
       "       [14.87187902, 20.59201453,  1.        ],\n",
       "       [11.30819096, 10.71452866,  0.        ],\n",
       "       [12.6792465 , 20.30486046,  1.        ],\n",
       "       [12.73034254, 20.80087946,  1.        ],\n",
       "       [15.74690571, 22.59127496,  1.        ],\n",
       "       [ 6.94280557, 12.19031877,  0.        ],\n",
       "       [15.02107706, 21.12861579,  1.        ],\n",
       "       [ 9.46897009, 11.09496485,  0.        ],\n",
       "       [12.29814226, 20.80533179,  1.        ],\n",
       "       [ 9.54782812, 12.12771132,  0.        ],\n",
       "       [ 9.25693956,  9.4482976 ,  0.        ],\n",
       "       [15.31736983, 19.32352282,  1.        ],\n",
       "       [ 5.97874246,  8.42758376,  0.        ],\n",
       "       [15.69973527, 18.67198007,  1.        ],\n",
       "       [11.99019759, 11.43512821,  0.        ],\n",
       "       [16.4087254 , 17.04298313,  1.        ],\n",
       "       [15.81423418, 20.94252113,  1.        ],\n",
       "       [15.05332436, 19.45706008,  1.        ],\n",
       "       [14.35090906, 20.05367037,  1.        ],\n",
       "       [14.27137301, 19.24907518,  1.        ],\n",
       "       [14.03922135, 19.41916092,  1.        ],\n",
       "       [14.15791807, 21.06251407,  1.        ],\n",
       "       [14.84446027, 15.99694332,  1.        ],\n",
       "       [ 9.15634328, 12.46327565,  0.        ],\n",
       "       [10.20920235,  9.73555812,  0.        ],\n",
       "       [12.01139319, 13.30304206,  0.        ]])"
      ]
     },
     "execution_count": 12,
     "metadata": {},
     "output_type": "execute_result"
    }
   ],
   "source": [
    "np.random.shuffle(labeled_classes)\n",
    "labeled_classes[:100]"
   ]
  },
  {
   "cell_type": "code",
   "execution_count": 14,
   "metadata": {},
   "outputs": [],
   "source": [
    "#def pd(x,y,a):\n",
    "#    s = 0    \n",
    "#    for i in np.arange(len(x)):\n",
    "#        dif = ((y[i]-a*x[i]))\n",
    "#        s = s + dif*(x[i])\n",
    "#    return s"
   ]
  },
  {
   "cell_type": "code",
   "execution_count": 15,
   "metadata": {},
   "outputs": [],
   "source": [
    "pd = 0\n",
    "\n",
    "\n",
    "    \n",
    "    \n",
    "    "
   ]
  },
  {
   "cell_type": "markdown",
   "metadata": {},
   "source": [
    "\n",
    "\n",
    "**Utilizando modelo sin Bias**\n",
    "        \n",
    "$\\mathbf{wx}=0$"
   ]
  },
  {
   "cell_type": "code",
   "execution_count": 13,
   "metadata": {},
   "outputs": [],
   "source": [
    "bias = 0\n",
    "n = 0.01\n",
    "sigm = lambda x: 1/(1 + np.exp(-x))\n",
    "\n",
    "\n",
    "#inicializar parametros theta\n",
    "param = [1,2]\n",
    "m = len(param)\n",
    "\n",
    "\n",
    "#repetir varias veces\n",
    "for k in range(100):\n",
    "    \n",
    "    #inicializar gradiente\n",
    "    g = np.zeros(m)\n",
    "\n",
    "    #por cada tupla (x,y)\n",
    "    for v in labeled_classes:\n",
    "#        s = 0\n",
    "        x = v[:2]\n",
    "        y = v[2]\n",
    "        \n",
    "        # por cada parametro\n",
    "        for j in np.arange(m):\n",
    "            line = np.matmul(param,x)\n",
    "            g[j] += (y-sigm(line))*x[j]\n",
    "        # calcular la derivada parcial con respecto al bias aqui\n",
    "            \n",
    "    param += n*g\n",
    "\n"
   ]
  },
  {
   "cell_type": "code",
   "execution_count": null,
   "metadata": {},
   "outputs": [],
   "source": []
  },
  {
   "cell_type": "code",
   "execution_count": 25,
   "metadata": {},
   "outputs": [
    {
     "name": "stdout",
     "output_type": "stream",
     "text": [
      "w_1,w_2 [-38.41904655  42.25799581]\n",
      "w_0 (bias) =  0\n"
     ]
    }
   ],
   "source": [
    "print(\"w_1,w_2\",param)\n",
    "print(\"w_0 (bias) = \",bias)"
   ]
  },
  {
   "cell_type": "code",
   "execution_count": 21,
   "metadata": {},
   "outputs": [
    {
     "name": "stdout",
     "output_type": "stream",
     "text": [
      "errores de clasificación:  64.0\n"
     ]
    }
   ],
   "source": [
    "# ecuación de la sigmoide sin bias\n",
    "def f(x):\n",
    "    return sigm(np.matmul(x,param))\n",
    "    \n",
    "\n",
    "pred = (np.array(list(map(f,labeled_classes[:,0:2])))>0.5)*1\n",
    "print(\"errores de clasificación: \", np.sum((pred-labeled_classes[:,2])**2))"
   ]
  },
  {
   "cell_type": "code",
   "execution_count": 22,
   "metadata": {},
   "outputs": [
    {
     "data": {
      "image/png": "[encoded data removed]",
      "text/plain": [
       "<Figure size 432x288 with 1 Axes>"
      ]
     },
     "metadata": {
      "needs_background": "light"
     },
     "output_type": "display_data"
    }
   ],
   "source": [
    "hmin = np.min([class00[:,0],class01[:,0]])\n",
    "hmax = np.max([class00[:,0],class01[:,0]])+1\n",
    "X = np.arange(hmin,hmax)\n",
    "\n",
    "\n",
    "plt.plot(X,(-param[0]/param[1])*X)\n",
    "plt.scatter(class00[:,0],class00[:,1])\n",
    "plt.scatter(class01[:,0],class01[:,1])\n",
    "plt.show()"
   ]
  },
  {
   "cell_type": "code",
   "execution_count": null,
   "metadata": {},
   "outputs": [],
   "source": [
    "`zx"
   ]
  }
 ],
 "metadata": {
  "kernelspec": {
   "display_name": "Python 3",
   "language": "python",
   "name": "python3"
  },
  "language_info": {
   "codemirror_mode": {
    "name": "ipython",
    "version": 3
   },
   "file_extension": ".py",
   "mimetype": "text/x-python",
   "name": "python",
   "nbconvert_exporter": "python",
   "pygments_lexer": "ipython3",
   "version": "3.7.6"
  }
 },
 "nbformat": 4,
 "nbformat_minor": 4
}
