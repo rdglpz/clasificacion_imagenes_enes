{
 "cells": [
  {
   "cell_type": "markdown",
   "metadata": {},
   "source": [
    "# Probando Clasificación con Gradiente descendente"
   ]
  },
  {
   "cell_type": "code",
   "execution_count": 669,
   "metadata": {},
   "outputs": [],
   "source": [
    "import numpy as np\n",
    "import matplotlib.pyplot as plt"
   ]
  },
  {
   "cell_type": "code",
   "execution_count": 670,
   "metadata": {},
   "outputs": [],
   "source": [
    "\n",
    "mean00 = [10,10]\n",
    "mean01 = [15,20]\n",
    "\n",
    "cov00 = [[8,1],[1,8]]\n",
    "cov01 = [[2,1],[1,2]]\n",
    "\n",
    "\n",
    "class00 = np.random.multivariate_normal(mean00, cov00, size=100, check_valid='warn', tol=1e-8)\n",
    "class01 = np.random.multivariate_normal(mean01, cov01, size=100, check_valid='warn', tol=1e-8)"
   ]
  },
  {
   "cell_type": "code",
   "execution_count": 671,
   "metadata": {},
   "outputs": [
    {
     "data": {
      "text/plain": [
       "<matplotlib.collections.PathCollection at 0x7fdf8753b850>"
      ]
     },
     "execution_count": 671,
     "metadata": {},
     "output_type": "execute_result"
    },
    {
     "data": {
      "image/png": "[encoded data removed]",
      "text/plain": [
       "<Figure size 432x288 with 1 Axes>"
      ]
     },
     "metadata": {
      "needs_background": "light"
     },
     "output_type": "display_data"
    }
   ],
   "source": [
    "plt.scatter(class00[:,0],class00[:,1])\n",
    "plt.scatter(class01[:,0],class01[:,1])"
   ]
  },
  {
   "cell_type": "code",
   "execution_count": 587,
   "metadata": {},
   "outputs": [
    {
     "data": {
      "text/plain": [
       "200"
      ]
     },
     "execution_count": 587,
     "metadata": {},
     "output_type": "execute_result"
    }
   ],
   "source": [
    "zeros = np.zeros(len(class00)).T\n",
    "labeled_class00 = np.append(class00,np.transpose([zeros]),axis=1)\n",
    "labeled_class01 = np.append(class01,np.transpose([zeros])+1,axis=1)\n",
    "labeled_classes = np.append(labeled_class00,labeled_class01,axis=0)\n",
    "len(labeled_classes)"
   ]
  },
  {
   "cell_type": "markdown",
   "metadata": {},
   "source": [
    "Definimos nuestra función de \"costo\". Decidimos implementar la derivada de la verosimilitud \n",
    "\n",
    "$\\frac{\\partial LL(\\theta)}{\\partial \\theta_j} = \\sum_{i=1}^n [y_i-sigm(\\theta^T\\mathbf{x}_i)]x_j$"
   ]
  },
  {
   "cell_type": "code",
   "execution_count": 588,
   "metadata": {},
   "outputs": [],
   "source": [
    "#La programación de la derivada de la función de costo \n",
    "\n",
    "param = [2,1]\n",
    "\n",
    "\n",
    "\n",
    "def pd(x,y,a):\n",
    "    s = 0\n",
    "    \n",
    "    for i in np.arange(len(x)):\n",
    "        dif = ((y[i]-a*x[i]))\n",
    "        s = s + dif*(x[i])\n",
    "    return s"
   ]
  },
  {
   "cell_type": "code",
   "execution_count": null,
   "metadata": {},
   "outputs": [],
   "source": [
    "\n",
    "\n",
    "\n",
    "    \n",
    "    \n",
    "    "
   ]
  },
  {
   "cell_type": "code",
   "execution_count": null,
   "metadata": {},
   "outputs": [],
   "source": [
    "\n",
    "\n",
    "\n",
    "        \n",
    "        "
   ]
  },
  {
   "cell_type": "code",
   "execution_count": 589,
   "metadata": {},
   "outputs": [],
   "source": [
    "bias = 0\n",
    "n = 0.001\n",
    "sigm = lambda x: 1/(1 + np.exp(-x))\n",
    "\n",
    "\n",
    "#inicializar parametros theta\n",
    "\n",
    "m = len(x)\n",
    "param = [1,2]\n",
    "\n",
    "#repetir varias veces\n",
    "for k in range(1000):\n",
    "    \n",
    "    #inicializar gradiente\n",
    "    g = np.zeros(m)\n",
    "\n",
    "    #por cada tupla (x,y)\n",
    "    for v in labeled_classes:\n",
    "        s = 0\n",
    "        x = v[:2]\n",
    "        y = v[2]\n",
    "        \n",
    "        # por cada parametro\n",
    "        for j in np.arange(m):\n",
    "            line = np.matmul(param,x)\n",
    "            g[j] += (y-sigm(line))*x[j]\n",
    "            \n",
    "    param += n*g\n",
    "\n"
   ]
  },
  {
   "cell_type": "code",
   "execution_count": 590,
   "metadata": {},
   "outputs": [
    {
     "data": {
      "text/plain": [
       "0"
      ]
     },
     "execution_count": 590,
     "metadata": {},
     "output_type": "execute_result"
    }
   ],
   "source": [
    "param\n",
    "bias"
   ]
  },
  {
   "cell_type": "code",
   "execution_count": 591,
   "metadata": {},
   "outputs": [
    {
     "name": "stdout",
     "output_type": "stream",
     "text": [
      "[ 9.49374221 11.04451587]\n",
      "0.0\n"
     ]
    }
   ],
   "source": [
    "x = labeled_classes[0][:2]\n",
    "y = labeled_classes[0][2]\n",
    "print(x)\n",
    "print(y)\n"
   ]
  },
  {
   "cell_type": "code",
   "execution_count": 592,
   "metadata": {},
   "outputs": [
    {
     "name": "stdout",
     "output_type": "stream",
     "text": [
      "errores de clasificación:  65.0\n"
     ]
    }
   ],
   "source": [
    "def f(x):\n",
    "    return sigm(np.matmul(x,param))\n",
    "    \n",
    "\n",
    "pred = (np.array(list(map(f,labeled_classes[:,0:2])))>0.5)*1\n",
    "print(\"errores de clasificación: \", np.sum((pred-labeled_classes[:,2])**2))\n"
   ]
  },
  {
   "cell_type": "code",
   "execution_count": null,
   "metadata": {},
   "outputs": [],
   "source": []
  },
  {
   "cell_type": "code",
   "execution_count": null,
   "metadata": {},
   "outputs": [],
   "source": []
  },
  {
   "cell_type": "code",
   "execution_count": null,
   "metadata": {},
   "outputs": [],
   "source": []
  },
  {
   "cell_type": "code",
   "execution_count": 593,
   "metadata": {},
   "outputs": [
    {
     "data": {
      "image/png": "[encoded data removed]",
      "text/plain": [
       "<Figure size 432x288 with 1 Axes>"
      ]
     },
     "metadata": {
      "needs_background": "light"
     },
     "output_type": "display_data"
    }
   ],
   "source": [
    "X = np.arange(-5,5)\n",
    "\n",
    "\n",
    "plt.plot(X,(-param[0]/param[1])*X)\n",
    "plt.scatter(class00[:,0],class00[:,1])\n",
    "plt.scatter(class01[:,0],class01[:,1])\n",
    "plt.show()"
   ]
  },
  {
   "cell_type": "markdown",
   "metadata": {},
   "source": [
    "Ahora considerando: $x_0w_0$ con $x_0 =  1$"
   ]
  },
  {
   "cell_type": "code",
   "execution_count": 663,
   "metadata": {},
   "outputs": [
    {
     "name": "stdout",
     "output_type": "stream",
     "text": [
      "[0.126039   0.78173643]\n",
      "-13.757589352440148\n"
     ]
    }
   ],
   "source": [
    "\n",
    "\n",
    "n = 0.0001\n",
    "sigm = lambda x: 1/(1 + np.exp(-x))\n",
    "#inicializar parametros theta\n",
    "#param = [0,0]\n",
    "\n",
    "#w_0 es bias\n",
    "#bias = 0\n",
    "\n",
    "#hparam = param\n",
    "\n",
    "#repetir varias veces\n",
    "for k in range(10000):\n",
    "    \n",
    "    #inicializar gradiente parametros + bias\n",
    "    g = np.zeros(len(x)+1)\n",
    "\n",
    "    #por cada tupla (x,y)\n",
    "    for v in labeled_classes:\n",
    "\n",
    "        x = v[:2]\n",
    "        y = v[-1:]\n",
    "        \n",
    "        # por cada parametro\n",
    "        line = np.matmul(x,param)+1*bias\n",
    "        for j in np.arange(len(x)):\n",
    "            \n",
    "            g[j]+=(y-sigm(line))*x[j]\n",
    "        \n",
    "        \n",
    "        g[2] += (y-sigm(line))*1\n",
    "\n",
    "        \n",
    "    param += n*g[:2]\n",
    "    bias += n*g[2]\n",
    "\n",
    "    \n",
    "print(param)    \n",
    "print(bias)"
   ]
  },
  {
   "cell_type": "code",
   "execution_count": 664,
   "metadata": {},
   "outputs": [],
   "source": [
    "def f(x):\n",
    "    return sigm(np.matmul(x,param)+bias)\n",
    "\n",
    "\n",
    "\n",
    "pred = (np.array(list(map(f,labeled_classes[:,0:2])))>0.5)*1"
   ]
  },
  {
   "cell_type": "code",
   "execution_count": 665,
   "metadata": {},
   "outputs": [
    {
     "data": {
      "text/plain": [
       "1.0"
      ]
     },
     "execution_count": 665,
     "metadata": {},
     "output_type": "execute_result"
    }
   ],
   "source": [
    "np.sum((pred - labeled_classes[:,2])**2)"
   ]
  },
  {
   "cell_type": "code",
   "execution_count": 666,
   "metadata": {},
   "outputs": [],
   "source": [
    "# incorporando el bias mejora la clasificación un poco mas"
   ]
  },
  {
   "cell_type": "code",
   "execution_count": 667,
   "metadata": {},
   "outputs": [
    {
     "data": {
      "text/plain": [
       "-13.757589352440148"
      ]
     },
     "execution_count": 667,
     "metadata": {},
     "output_type": "execute_result"
    }
   ],
   "source": [
    "bias"
   ]
  },
  {
   "cell_type": "code",
   "execution_count": 668,
   "metadata": {},
   "outputs": [
    {
     "data": {
      "image/png": "[encoded data removed]",
      "text/plain": [
       "<Figure size 432x288 with 1 Axes>"
      ]
     },
     "metadata": {
      "needs_background": "light"
     },
     "output_type": "display_data"
    }
   ],
   "source": [
    "X = np.arange(0,20)\n",
    "Y = (-param[0]/param[1])*X-bias/param[1]\n",
    "plt.plot(X,Y)\n",
    "plt.scatter(class01[:,0],class01[:,1])\n",
    "plt.scatter(class00[:,0],class00[:,1])\n",
    "plt.show()"
   ]
  },
  {
   "cell_type": "code",
   "execution_count": null,
   "metadata": {},
   "outputs": [],
   "source": []
  },
  {
   "cell_type": "code",
   "execution_count": null,
   "metadata": {},
   "outputs": [],
   "source": []
  }
 ],
 "metadata": {
  "kernelspec": {
   "display_name": "Python 3",
   "language": "python",
   "name": "python3"
  },
  "language_info": {
   "codemirror_mode": {
    "name": "ipython",
    "version": 3
   },
   "file_extension": ".py",
   "mimetype": "text/x-python",
   "name": "python",
   "nbconvert_exporter": "python",
   "pygments_lexer": "ipython3",
   "version": "3.7.6"
  }
 },
 "nbformat": 4,
 "nbformat_minor": 4
}
