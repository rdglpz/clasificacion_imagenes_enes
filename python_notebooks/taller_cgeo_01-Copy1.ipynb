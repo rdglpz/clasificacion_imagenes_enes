{
 "cells": [
  {
   "cell_type": "markdown",
   "metadata": {},
   "source": [
    "#  Hello Supervised Learning World!!!\n",
    "\n",
    "## ProbandoAlgoritmo Básico Gradiente Descendente con funciones sencillas\n",
    "\n",
    "\n",
    "\n",
    "Lineal \n",
    "$f_1(x) =  ax$"
   ]
  },
  {
   "cell_type": "code",
   "execution_count": 638,
   "metadata": {},
   "outputs": [],
   "source": [
    "import numpy as np\n",
    "import itertools as it\n",
    "import matplotlib.pyplot as plt\n",
    "import pandas as pd\n",
    "import seaborn as sns"
   ]
  },
  {
   "cell_type": "markdown",
   "metadata": {},
   "source": [
    "### Ejemplo Ilustrativo\n",
    "Encontrar parámetros de la función lineal $f(x,\\theta) = x \\cdot w $ donde $\\theta = \\{w\\}$utilizando el algoritmo de gradiente descendiente dado un conjunto de datos etiquetados."
   ]
  },
  {
   "cell_type": "markdown",
   "metadata": {},
   "source": [
    " ## 1. Construcción del problema"
   ]
  },
  {
   "cell_type": "code",
   "execution_count": null,
   "metadata": {},
   "outputs": [],
   "source": []
  },
  {
   "cell_type": "code",
   "execution_count": 639,
   "metadata": {},
   "outputs": [
    {
     "name": "stdout",
     "output_type": "stream",
     "text": [
      "[-4.76405882 -4.26757069]\n",
      "[-0.55099957  3.58534569]\n",
      "[-1.28123622  4.16796788]\n"
     ]
    }
   ],
   "source": [
    "x = [0.5,0.5]\n",
    "\n",
    "w01 = np.random.rand(2)*10-5\n",
    "w02 = np.random.rand(2)*10-5\n",
    "w03 = np.random.rand(2)*10-5\n",
    "\n",
    "print(w01)\n",
    "print(w02)\n",
    "print(w03)"
   ]
  },
  {
   "cell_type": "code",
   "execution_count": 640,
   "metadata": {},
   "outputs": [],
   "source": [
    "w01_init = [-1.76,  1.78]\n",
    "w02_init = [ 2.47, -4.50]\n",
    "w03_init = [0.74, 0.90]\n"
   ]
  },
  {
   "cell_type": "code",
   "execution_count": 641,
   "metadata": {},
   "outputs": [],
   "source": [
    "w01 = [7.1,5.2]\n",
    "w02 = [0.86, -1.91]\n",
    "w03 =[-4.11, 4.88]\n"
   ]
  },
  {
   "cell_type": "code",
   "execution_count": 642,
   "metadata": {},
   "outputs": [],
   "source": [
    "def layer1(x,w):\n",
    "    return np.dot(x,w)\n",
    "\n",
    "def sigm(y):\n",
    "    return 1/(1+np.exp(-y))"
   ]
  },
  {
   "cell_type": "code",
   "execution_count": 643,
   "metadata": {},
   "outputs": [],
   "source": [
    "\n",
    "\n",
    "a = np.arange(-50,50,5)\n",
    "combinations = it.product(a,a)\n",
    "\n",
    "dataset = np.array([[0,0,1]])\n",
    "\n",
    "for combination in combinations:\n",
    "    \n",
    "    #capa de entrada\n",
    "    x = np.array(combination)\n",
    "    \n",
    "    # 2 neuronas capa intermedia \n",
    "    y_1 = sigm(np.dot(x,w01))\n",
    "    y_2 = sigm(np.dot(x,w02))\n",
    "    \n",
    "    # 1 neurona capa de salida\n",
    "    z = sigm(w03[0]*y_1+ w03[1]*y_2)\n",
    "    \n",
    "    #asociando x con z \n",
    "    dataset = np.append(dataset,[np.append(x, (z>0.5)*1 )],axis=0)\n",
    "    \n"
   ]
  },
  {
   "cell_type": "code",
   "execution_count": null,
   "metadata": {},
   "outputs": [],
   "source": []
  },
  {
   "cell_type": "code",
   "execution_count": 644,
   "metadata": {},
   "outputs": [
    {
     "data": {
      "text/plain": [
       "[]"
      ]
     },
     "execution_count": 644,
     "metadata": {},
     "output_type": "execute_result"
    },
    {
     "data": {
      "image/png": "[encoded data removed]",
      "text/plain": [
       "<Figure size 402.375x360 with 6 Axes>"
      ]
     },
     "metadata": {
      "needs_background": "light"
     },
     "output_type": "display_data"
    }
   ],
   "source": [
    "df = pd.DataFrame(dataset)\n",
    "sns.pairplot(df, hue=2)\n",
    "plt.plot()"
   ]
  },
  {
   "cell_type": "code",
   "execution_count": null,
   "metadata": {},
   "outputs": [],
   "source": []
  },
  {
   "cell_type": "code",
   "execution_count": 645,
   "metadata": {},
   "outputs": [
    {
     "data": {
      "text/plain": [
       "-0.00010000500033334732"
      ]
     },
     "execution_count": 645,
     "metadata": {},
     "output_type": "execute_result"
    }
   ],
   "source": [
    "y =1\n",
    "yhat =0.9999\n",
    "(y * np.log(yhat)+ (1-y)*np.log(1-yhat))"
   ]
  },
  {
   "cell_type": "code",
   "execution_count": 646,
   "metadata": {},
   "outputs": [],
   "source": [
    "def L(yhat,y):\n",
    "    return (y * np.log(yhat)+ (1-y)*np.log(1-yhat))\n",
    "\n",
    "def derivative_L(yhat,y):\n",
    "    return (yhat-y)/((yhat-1)*yhat)\n",
    "    \n",
    "\n",
    "def cost(W,dataset):\n",
    "\n",
    "    w01,W02,W03 = (W[0],W[1],W[2])\n",
    "    \n",
    "    c = 0\n",
    "    for d in dataset:\n",
    "        x = d[:2]\n",
    "        y = (d[2]>0)*1\n",
    "        yhat = sigm((w03[0]*sigm(np.dot(x,w01)) + w03[1]*sigm(np.dot(x,w02))))\n",
    "        c += L(yhat,y)\n",
    "        \n",
    "    return c\n",
    "def d_cost(W,dataset):\n",
    "    w01,W02,W03 = (W[0],W[1],W[2])\n",
    "    \n",
    "    c = 0\n",
    "    for d in dataset:\n",
    "\n",
    "        x = d[:2]\n",
    "        y = (d[2]>0)*1\n",
    "        yhat = sigm((w03[0]*sigm(np.dot(x,w01)) + w03[1]*sigm(np.dot(x,w02))))\n",
    "        c += derivative_L(yhat,y)\n",
    "    return c\n",
    "    "
   ]
  },
  {
   "cell_type": "code",
   "execution_count": null,
   "metadata": {},
   "outputs": [],
   "source": []
  },
  {
   "cell_type": "code",
   "execution_count": 647,
   "metadata": {},
   "outputs": [
    {
     "name": "stdout",
     "output_type": "stream",
     "text": [
      "-96.84979404744733\n",
      "90.97511888747712\n"
     ]
    }
   ],
   "source": [
    "W = [w01, w02, w03]\n",
    "print(cost(W,dataset))\n",
    "print(d_cost(W,dataset))"
   ]
  },
  {
   "cell_type": "code",
   "execution_count": 648,
   "metadata": {},
   "outputs": [
    {
     "name": "stdout",
     "output_type": "stream",
     "text": [
      "-179.48618875003243\n",
      "2003.1402603707224\n"
     ]
    }
   ],
   "source": [
    "W_init = [w01_init, w02_init , w03_init]\n",
    "\n",
    "print(cost(W_init,dataset))\n",
    "dc = d_cost(W_init,dataset)\n",
    "print(dc)"
   ]
  },
  {
   "cell_type": "code",
   "execution_count": null,
   "metadata": {},
   "outputs": [],
   "source": []
  },
  {
   "cell_type": "code",
   "execution_count": 656,
   "metadata": {},
   "outputs": [
    {
     "data": {
      "text/plain": [
       "([-1.76, 1.78], [2.47, -4.5], [0.74, 0.9])"
      ]
     },
     "execution_count": 656,
     "metadata": {},
     "output_type": "execute_result"
    }
   ],
   "source": [
    "w01_init = [-1.76,  1.78]\n",
    "w02_init = [ 2.47, -4.50]\n",
    "w03_init = [0.74, 0.90]\n",
    "\n",
    "W_t = (w01_init,w02_init,w03_init)\n",
    "W_t\n"
   ]
  },
  {
   "cell_type": "code",
   "execution_count": 657,
   "metadata": {},
   "outputs": [],
   "source": [
    "eta = 0.001\n",
    "\n",
    "# modelo\n",
    "y_1 = sigm(np.dot(x,w01_init))\n",
    "y_2 = sigm(np.dot(x,w02_init))\n",
    "z = sigm(w03_init[0]*y_1+ w03_init[1]*y_2)"
   ]
  },
  {
   "cell_type": "code",
   "execution_count": 658,
   "metadata": {},
   "outputs": [
    {
     "data": {
      "text/plain": [
       "2003.1402603707224"
      ]
     },
     "execution_count": 658,
     "metadata": {},
     "output_type": "execute_result"
    }
   ],
   "source": [
    "dc =  d_cost([w01_init,w02_init,w03_init],dataset)\n",
    "dc"
   ]
  },
  {
   "cell_type": "code",
   "execution_count": 652,
   "metadata": {},
   "outputs": [],
   "source": [
    "#inicializamos parámetros\n",
    "delta_w03 = w03\n",
    "delta_w02 = w02\n",
    "delta_w01 = w01"
   ]
  },
  {
   "cell_type": "code",
   "execution_count": 660,
   "metadata": {},
   "outputs": [],
   "source": [
    "delta_w03[0] = dc*sigm(z)*(1*sigm(z))*y_1\n",
    "delta_w03[1] = dc*sigm(z)*(1*sigm(z))*y_2\n",
    "\n",
    "delta_w01[0] = delta_w03[0]*sigm(y_1)*(1-y_1)*1\n",
    "delta_w01[1] = delta_w03[0]*sigm(y_1)*(1-y_1)*1\n",
    "\n",
    "delta_w02[0] = delta_w03[0]*sigm(y_2)*(1-y_2)*1\n",
    "delta_w02[1] = delta_w03[0]*sigm(y_2)*(1-y_2)*1"
   ]
  },
  {
   "cell_type": "code",
   "execution_count": null,
   "metadata": {},
   "outputs": [],
   "source": []
  },
  {
   "cell_type": "code",
   "execution_count": null,
   "metadata": {},
   "outputs": [],
   "source": []
  },
  {
   "cell_type": "code",
   "execution_count": 661,
   "metadata": {},
   "outputs": [],
   "source": [
    "w03_init = w03_init -np.array(delta_w03)*eta\n",
    "w02_init = w02_init -np.array(delta_w02)*eta\n",
    "w01_init = w01_init -np.array(delta_w01)*eta\n",
    "\n"
   ]
  },
  {
   "cell_type": "code",
   "execution_count": 662,
   "metadata": {},
   "outputs": [],
   "source": [
    "wl = [list(w01_init),list(w02_init),list(w03_init)]"
   ]
  },
  {
   "cell_type": "code",
   "execution_count": 663,
   "metadata": {},
   "outputs": [
    {
     "data": {
      "text/plain": [
       "[[-1.877411526452702, 1.662588473547298],\n",
       " [2.1671438554839373, -4.802856144516063],\n",
       " [0.13428771096787406, 0.9]]"
      ]
     },
     "execution_count": 663,
     "metadata": {},
     "output_type": "execute_result"
    }
   ],
   "source": [
    "wl"
   ]
  },
  {
   "cell_type": "code",
   "execution_count": 667,
   "metadata": {},
   "outputs": [
    {
     "name": "stdout",
     "output_type": "stream",
     "text": [
      "nan\n"
     ]
    },
    {
     "name": "stderr",
     "output_type": "stream",
     "text": [
      "/Users/rodrigo/opt/anaconda3/lib/python3.7/site-packages/ipykernel_launcher.py:2: RuntimeWarning: divide by zero encountered in log\n",
      "  \n",
      "/Users/rodrigo/opt/anaconda3/lib/python3.7/site-packages/ipykernel_launcher.py:2: RuntimeWarning: invalid value encountered in multiply\n",
      "  \n",
      "/Users/rodrigo/opt/anaconda3/lib/python3.7/site-packages/ipykernel_launcher.py:5: RuntimeWarning: overflow encountered in exp\n",
      "  \"\"\"\n"
     ]
    }
   ],
   "source": [
    "print(cost(wl,dataset[:6]))\n",
    "#dc = d_cost(W_init,dataset)\n",
    "#print(dc)"
   ]
  },
  {
   "cell_type": "code",
   "execution_count": 668,
   "metadata": {},
   "outputs": [
    {
     "data": {
      "text/plain": [
       "array([[  0,   0,   1],\n",
       "       [-50, -50,   1],\n",
       "       [-50, -45,   1],\n",
       "       [-50, -40,   1],\n",
       "       [-50, -35,   1],\n",
       "       [-50, -30,   1]])"
      ]
     },
     "execution_count": 668,
     "metadata": {},
     "output_type": "execute_result"
    }
   ],
   "source": [
    "dataset[:6]"
   ]
  },
  {
   "cell_type": "markdown",
   "metadata": {},
   "source": [
    "## 2. Definir un modelo de regresión\n",
    "\n",
    "$$y = f(x,\\theta) $$ \n",
    "$$ f(x,\\theta)  = w \\cdot x $$, donde $\\theta =\\{w\\}$\n",
    "\n",
    "## 3. Definir la función de costo $C$\n",
    "Definimos la función de la suma de las diferencias al cuadrado dividida entre 2 como la función de costo. \n",
    "\n",
    "$C(\\theta) = \\frac{1}{2} \\sum_{i=1}^m (y_i-w \\cdot x_i)^2 $\n",
    "\n",
    "## 3.1 Formular la función objetivo \n",
    "\n",
    "$$ \\underset{\\theta}{\\text{minimize}} \\text{ } C(\\theta)$$\n",
    "\n",
    "## 4 Seleccionar algoritmo que minimice la función de objetivo. \n",
    "\n",
    "Gradiente descendente\n",
    "\n",
    "### 4.1 Calculamos la derivada para el algoritmo\n",
    "\n",
    "$\\frac{\\delta C(\\theta) }{\\delta \\theta} = - \\sum_{i=1}^m (y_i-w \\cdot x_i) x_i$"
   ]
  },
  {
   "cell_type": "markdown",
   "metadata": {},
   "source": [
    "### Gradiente Descendente\n",
    "\n"
   ]
  },
  {
   "cell_type": "markdown",
   "metadata": {},
   "source": [
    "Inicializar parámetros:"
   ]
  },
  {
   "cell_type": "code",
   "execution_count": 92,
   "metadata": {},
   "outputs": [
    {
     "data": {
      "text/plain": [
       "0.5048402755568879"
      ]
     },
     "execution_count": 92,
     "metadata": {},
     "output_type": "execute_result"
    }
   ],
   "source": []
  },
  {
   "cell_type": "code",
   "execution_count": 4,
   "metadata": {},
   "outputs": [
    {
     "name": "stdout",
     "output_type": "stream",
     "text": [
      "Estimación\n",
      "w = 3.3459449506074534\n",
      "Real\n",
      "w = 4\n"
     ]
    }
   ],
   "source": [
    "#Inicializar parámetros\n",
    "w = 0\n",
    "\n",
    "#lista del valor de la pendiente w a lo largo de las iteraciones\n",
    "pendientes = list([w])\n",
    "\n",
    "#tamaño de paso: tasa de aprendizaje (learning rate)\n",
    "eta = 0.01\n",
    "\n",
    "#repetir varias veces hasta cierto numero de iteraciones\n",
    "for it in np.arange(10000):\n",
    "    \n",
    "    #calcular derivada parcial\n",
    "    #inicializar derivada parcial\n",
    "    grad = 0\n",
    "    \n",
    "    #por cada tupla del conjunto de datos (x_I,y_i) hacer\n",
    "    for i in np.arange(len(x)):\n",
    "        dif = -0.5*(y_noise[i]-w*x[i])*x[i]\n",
    "        grad += dif\n",
    "    \n",
    "    #actualizar parametro w\n",
    "    w = w - eta*grad\n",
    "    pendientes.append(w)\n",
    "\n",
    "print(\"Estimación\")\n",
    "print(\"w =\",pendientes[-1])\n",
    "print(\"Real\")\n",
    "print(\"w =\",w_r)"
   ]
  },
  {
   "cell_type": "markdown",
   "metadata": {},
   "source": [
    "# Gráfica de Convergencia "
   ]
  },
  {
   "cell_type": "code",
   "execution_count": 5,
   "metadata": {},
   "outputs": [
    {
     "data": {
      "image/png": "[encoded data removed]",
      "text/plain": [
       "<Figure size 432x288 with 1 Axes>"
      ]
     },
     "metadata": {
      "needs_background": "light"
     },
     "output_type": "display_data"
    }
   ],
   "source": [
    "plt.plot(pendientes[:40])\n",
    "plt.show()"
   ]
  },
  {
   "cell_type": "code",
   "execution_count": 6,
   "metadata": {},
   "outputs": [
    {
     "data": {
      "image/png": "[encoded data removed]",
      "text/plain": [
       "<Figure size 432x288 with 1 Axes>"
      ]
     },
     "metadata": {
      "needs_background": "light"
     },
     "output_type": "display_data"
    }
   ],
   "source": [
    "linea1 = pendientes[0]*x\n",
    "linea2 = pendientes[-1]*x\n",
    "linea3 = w_r*x\n",
    "\n",
    "plot1, = plt.plot(linea1, label='\\hat{w}')\n",
    "plot2, = plt.plot(linea2, label='Line 1')\n",
    "plot3, = plt.plot(linea3, label='linea real con w')\n",
    "plot4, = plt.plot(y_noise,'ro', label='Regresión lineal con ruido')\n",
    "plt.legend([plot1, plot2, plot3,plot4], ['$\\hat{w_0}$', '$\\hat{w}$','linea con $w$ real ',\"Regresión lineal con ruido\"])\n",
    "plt.plot()\n",
    "\n",
    "#plt.plot(y_noise,'ro')\n",
    "plt.show()"
   ]
  },
  {
   "cell_type": "code",
   "execution_count": null,
   "metadata": {},
   "outputs": [],
   "source": []
  },
  {
   "cell_type": "code",
   "execution_count": null,
   "metadata": {},
   "outputs": [],
   "source": []
  },
  {
   "cell_type": "code",
   "execution_count": null,
   "metadata": {},
   "outputs": [],
   "source": []
  }
 ],
 "metadata": {
  "kernelspec": {
   "display_name": "Python 3",
   "language": "python",
   "name": "python3"
  },
  "language_info": {
   "codemirror_mode": {
    "name": "ipython",
    "version": 3
   },
   "file_extension": ".py",
   "mimetype": "text/x-python",
   "name": "python",
   "nbconvert_exporter": "python",
   "pygments_lexer": "ipython3",
   "version": "3.7.6"
  }
 },
 "nbformat": 4,
 "nbformat_minor": 4
}
