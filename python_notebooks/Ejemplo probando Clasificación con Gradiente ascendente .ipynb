{
 "cells": [
  {
   "cell_type": "markdown",
   "metadata": {},
   "source": [
    "# Probando Clasificación con Gradiente descendente"
   ]
  },
  {
   "cell_type": "code",
   "execution_count": 1,
   "metadata": {},
   "outputs": [],
   "source": [
    "import numpy as np\n",
    "import matplotlib.pyplot as plt"
   ]
  },
  {
   "cell_type": "markdown",
   "metadata": {},
   "source": [
    "**Generando dos clases sintéticas con medias $\\mu_0 \\neq \\mu_1$**"
   ]
  },
  {
   "cell_type": "code",
   "execution_count": 2,
   "metadata": {},
   "outputs": [
    {
     "data": {
      "text/plain": [
       "<matplotlib.collections.PathCollection at 0x7fbc4d51cda0>"
      ]
     },
     "execution_count": 2,
     "metadata": {},
     "output_type": "execute_result"
    },
    {
     "data": {
      "image/png": "[encoded data removed]",
      "text/plain": [
       "<Figure size 432x288 with 1 Axes>"
      ]
     },
     "metadata": {
      "needs_background": "light"
     },
     "output_type": "display_data"
    }
   ],
   "source": [
    "mean00 = [10,10]\n",
    "mean01 = [15,20]\n",
    "\n",
    "cov00 = [[2,0],[0,2]]\n",
    "cov01 = [[2,0],[0,2]]\n",
    "\n",
    "class00 = np.random.multivariate_normal(mean00, cov00, size=100, check_valid='warn', tol=1e-8)\n",
    "class01 = np.random.multivariate_normal(mean01, cov01, size=100, check_valid='warn', tol=1e-8)\n",
    "\n",
    "plt.scatter(class00[:,0],class00[:,1])\n",
    "plt.scatter(class01[:,0],class01[:,1])"
   ]
  },
  {
   "cell_type": "markdown",
   "metadata": {},
   "source": [
    "**Generando una sola base de datos de datos clasificados**"
   ]
  },
  {
   "cell_type": "code",
   "execution_count": 4,
   "metadata": {},
   "outputs": [
    {
     "data": {
      "text/plain": [
       "(100, 2)"
      ]
     },
     "execution_count": 4,
     "metadata": {},
     "output_type": "execute_result"
    }
   ],
   "source": [
    "class00.shape"
   ]
  },
  {
   "cell_type": "code",
   "execution_count": 85,
   "metadata": {},
   "outputs": [
    {
     "data": {
      "text/plain": [
       "200"
      ]
     },
     "execution_count": 85,
     "metadata": {},
     "output_type": "execute_result"
    }
   ],
   "source": [
    "zeros = np.zeros(len(class00)).T\n",
    "\n",
    "labeled_class00 = np.append(class00,np.transpose([zeros]),axis=1)\n",
    "labeled_class01 = np.append(class01,np.transpose([zeros])+1,axis=1)\n",
    "\n",
    "\n",
    "\n",
    "labeled_classes = np.append(labeled_class00,labeled_class01,axis=0)\n",
    "len(labeled_classes)"
   ]
  },
  {
   "cell_type": "markdown",
   "metadata": {},
   "source": [
    "Definimos nuestra función de \"costo\". Decidimos implementar la derivada de la verosimilitud \n",
    "\n",
    "$\\frac{\\partial LL(\\theta)}{\\partial \\theta_j} = \\sum_{i=1}^n [y_i-sigm(\\theta^T\\mathbf{x}_i)]x_j$"
   ]
  },
  {
   "cell_type": "markdown",
   "metadata": {},
   "source": [
    "**La programación de la derivada de la función de costo **"
   ]
  },
  {
   "cell_type": "code",
   "execution_count": 86,
   "metadata": {},
   "outputs": [],
   "source": [
    "#def pd(x,y,a):\n",
    "#    s = 0    \n",
    "#    for i in np.arange(len(x)):\n",
    "#        dif = ((y[i]-a*x[i]))\n",
    "#        s = s + dif*(x[i])\n",
    "#    return s"
   ]
  },
  {
   "cell_type": "code",
   "execution_count": 87,
   "metadata": {},
   "outputs": [],
   "source": [
    "pd = 0\n",
    "\n",
    "\n",
    "    \n",
    "    \n",
    "    "
   ]
  },
  {
   "cell_type": "markdown",
   "metadata": {},
   "source": [
    "\n",
    "\n",
    "**Utilizando modelo sin Bias**\n",
    "        \n",
    "$\\mathbf{wx}=0$"
   ]
  },
  {
   "cell_type": "code",
   "execution_count": 88,
   "metadata": {},
   "outputs": [],
   "source": [
    "bias = 0\n",
    "n = 0.01\n",
    "sigm = lambda x: 1/(1 + np.exp(-x))\n",
    "\n",
    "\n",
    "\n",
    "param = [1,2]\n",
    "\n",
    "#inicializar parametros theta\n",
    "m = len(param)\n",
    "\n",
    "\n",
    "#repetir varias veces\n",
    "for k in range(1000):\n",
    "    \n",
    "    #inicializar gradiente\n",
    "    g = np.zeros(m)\n",
    "\n",
    "    #por cada tupla (x,y)\n",
    "    for v in labeled_classes:\n",
    "        s = 0\n",
    "        x = v[:2]\n",
    "        y = v[2]\n",
    "        \n",
    "        # por cada parametro\n",
    "        for j in np.arange(m):\n",
    "            line = np.matmul(param,x)\n",
    "            g[j] += (y-sigm(line))*x[j]\n",
    "            \n",
    "    param += n*g\n",
    "\n"
   ]
  },
  {
   "cell_type": "code",
   "execution_count": 89,
   "metadata": {},
   "outputs": [
    {
     "name": "stdout",
     "output_type": "stream",
     "text": [
      "w_1,w_2 [-42.26835185  33.11730936]\n",
      "w_0 (bias) =  0\n"
     ]
    }
   ],
   "source": [
    "print(\"w_1,w_2\",param)\n",
    "print(\"w_0 (bias) = \",bias)"
   ]
  },
  {
   "cell_type": "code",
   "execution_count": 90,
   "metadata": {},
   "outputs": [
    {
     "name": "stdout",
     "output_type": "stream",
     "text": [
      "errores de clasificación:  36.0\n"
     ]
    }
   ],
   "source": [
    "# ecuación de la sigmoide sin bias\n",
    "def f(x):\n",
    "    return sigm(np.matmul(x,param))\n",
    "    \n",
    "\n",
    "pred = (np.array(list(map(f,labeled_classes[:,0:2])))>0.5)*1\n",
    "print(\"errores de clasificación: \", np.sum((pred-labeled_classes[:,2])**2))"
   ]
  },
  {
   "cell_type": "code",
   "execution_count": 91,
   "metadata": {},
   "outputs": [
    {
     "data": {
      "image/png": "[encoded data removed]",
      "text/plain": [
       "<Figure size 432x288 with 1 Axes>"
      ]
     },
     "metadata": {
      "needs_background": "light"
     },
     "output_type": "display_data"
    }
   ],
   "source": [
    "hmin = np.min([class00[:,0],class01[:,0]])\n",
    "hmax = np.max([class00[:,0],class01[:,0]])+1\n",
    "X = np.arange(hmin,hmax)\n",
    "\n",
    "\n",
    "plt.plot(X,(-param[0]/param[1])*X)\n",
    "plt.scatter(class00[:,0],class00[:,1])\n",
    "plt.scatter(class01[:,0],class01[:,1])\n",
    "plt.show()"
   ]
  },
  {
   "cell_type": "markdown",
   "metadata": {},
   "source": [
    "Ahora considerando: \n",
    "\n",
    "**Utilizando modelo con Bias**\n",
    "        \n",
    "$\\mathbf{wx}_i+w_0=0$\n",
    "\n",
    "$x_0w_0$ con $x_0 =  1$"
   ]
  },
  {
   "cell_type": "code",
   "execution_count": 92,
   "metadata": {},
   "outputs": [
    {
     "ename": "SyntaxError",
     "evalue": "invalid syntax (<ipython-input-92-30a6533e7c8d>, line 1)",
     "output_type": "error",
     "traceback": [
      "\u001b[0;36m  File \u001b[0;32m\"<ipython-input-92-30a6533e7c8d>\"\u001b[0;36m, line \u001b[0;32m1\u001b[0m\n\u001b[0;31m    **Modelo sin entrenar**\u001b[0m\n\u001b[0m     ^\u001b[0m\n\u001b[0;31mSyntaxError\u001b[0m\u001b[0;31m:\u001b[0m invalid syntax\n"
     ]
    }
   ],
   "source": [
    "**Modelo sin entrenar**"
   ]
  },
  {
   "cell_type": "code",
   "execution_count": null,
   "metadata": {},
   "outputs": [],
   "source": [
    "#inicializar parametros theta\n",
    "param = [0,0]\n",
    "\n",
    "#inicializar w_0 (bias)\n",
    "bias = 0"
   ]
  },
  {
   "cell_type": "code",
   "execution_count": null,
   "metadata": {},
   "outputs": [],
   "source": [
    "#Ecuación de la sigmoide\n",
    "def f(x,bias=bias):\n",
    "    return sigm(np.matmul(x,param)+bias)\n",
    "\n",
    "pred = (np.array(list(map(f,labeled_classes[:,0:2])))>0.5)*1\n",
    "print(\"Errores de clasificación:\", np.sum((pred - labeled_classes[:,2])**2))"
   ]
  },
  {
   "cell_type": "code",
   "execution_count": 98,
   "metadata": {},
   "outputs": [
    {
     "name": "stdout",
     "output_type": "stream",
     "text": [
      "parametros w_1 y w_2 [-6.40552233 10.9671372 ]\n",
      "w_0 (bias) -80.76138036637407\n"
     ]
    }
   ],
   "source": [
    "n = 0.01\n",
    "sigm = lambda x: 1/(1 + np.exp(-x))\n",
    "\n",
    "#inicializar parametros theta\n",
    "param = [0,0]\n",
    "\n",
    "#inicializar w_0 (bias)\n",
    "bias = 0\n",
    "\n",
    "#repetir varias veces\n",
    "for k in range(1500):\n",
    "    \n",
    "    #inicializar gradiente parametros + bias\n",
    "    g = np.zeros(len(x)+1)\n",
    "\n",
    "    #por cada tupla (x,y)\n",
    "    for v in labeled_classes:\n",
    "    \n",
    "        #asignamos la pareja (o tupla) (x_i,y_i)\n",
    "        x = v[:2]\n",
    "        y = v[2]\n",
    "        \n",
    "        # por cada parametro\n",
    "        line = np.matmul(x,param)+1*bias\n",
    "        for j in np.arange(len(x)):\n",
    "    \n",
    "            #gradiente evaluado con respecto a w_1 y w_2 en la derivada de la funcion de log-verosimilitud\n",
    "            g[j]+=(y-sigm(line))*x[j]\n",
    "\n",
    "        \n",
    "        #gradiente evaluado con respecto a w_0\n",
    "        g[2] += (y-sigm(line))*1\n",
    "\n",
    "        \n",
    "    #actualización de los parámetros\n",
    "    param += n*g[:2]\n",
    "    bias += n*g[2]\n",
    "\n",
    "    \n",
    "print(\"parametros w_1 y w_2\",+param)    \n",
    "print(\"w_0 (bias)\",bias)"
   ]
  },
  {
   "cell_type": "code",
   "execution_count": 99,
   "metadata": {},
   "outputs": [
    {
     "name": "stdout",
     "output_type": "stream",
     "text": [
      "Errores de clasificación: 0.0\n"
     ]
    }
   ],
   "source": [
    "#Ecuación de la sigmoide\n",
    "\n",
    "def f(x,bias=bias):\n",
    "    return sigm(np.matmul(x,param)+bias)\n",
    "\n",
    "pred = (np.array(list(map(f,labeled_classes[:,0:2])))>0.5)*1\n",
    "print(\"Errores de clasificación:\", np.sum((pred - labeled_classes[:,2])**2))"
   ]
  },
  {
   "cell_type": "code",
   "execution_count": 100,
   "metadata": {},
   "outputs": [
    {
     "data": {
      "image/png": "[encoded data removed]",
      "text/plain": [
       "<Figure size 432x288 with 1 Axes>"
      ]
     },
     "metadata": {
      "needs_background": "light"
     },
     "output_type": "display_data"
    }
   ],
   "source": [
    "hmin = np.min([class00[:,0],class01[:,0]])\n",
    "hmax = np.max([class00[:,0],class01[:,0]])+1\n",
    "X = np.arange(hmin,hmax)\n",
    "Y = (-param[0]/param[1])*X-(bias/param[1])\n",
    "plt.plot(X,Y)\n",
    "plt.scatter(class01[:,0],class01[:,1])\n",
    "plt.scatter(class00[:,0],class00[:,1])\n",
    "plt.show()"
   ]
  },
  {
   "cell_type": "code",
   "execution_count": null,
   "metadata": {},
   "outputs": [],
   "source": []
  }
 ],
 "metadata": {
  "kernelspec": {
   "display_name": "Python 3",
   "language": "python",
   "name": "python3"
  },
  "language_info": {
   "codemirror_mode": {
    "name": "ipython",
    "version": 3
   },
   "file_extension": ".py",
   "mimetype": "text/x-python",
   "name": "python",
   "nbconvert_exporter": "python",
   "pygments_lexer": "ipython3",
   "version": "3.7.0"
  }
 },
 "nbformat": 4,
 "nbformat_minor": 4
}
