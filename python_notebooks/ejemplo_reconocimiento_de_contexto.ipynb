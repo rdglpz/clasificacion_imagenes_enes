{
 "cells": [
  {
   "cell_type": "code",
   "execution_count": 1,
   "metadata": {},
   "outputs": [],
   "source": [
    "# Ejemplo utilizando el contexto para identificar digitos escritos a mano"
   ]
  },
  {
   "cell_type": "code",
   "execution_count": 2,
   "metadata": {},
   "outputs": [],
   "source": [
    "import numpy as np\n",
    "\n",
    "#lo usaremos solo para descargar la base de datos MINIST sin complicaciones\n",
    "from tensorflow import keras\n",
    "\n",
    "#+++\n",
    "from matplotlib import pyplot as plt\n",
    "from sklearn import metrics\n",
    "from sklearn.neural_network import MLPClassifier"
   ]
  },
  {
   "cell_type": "code",
   "execution_count": 3,
   "metadata": {},
   "outputs": [],
   "source": [
    "# Cargando base de datos MINIST\n",
    "mnist = keras.datasets.mnist\n",
    "\n",
    "# cargamos los conjutnos de entrenamiento y prueba \n",
    "(X_train, y_train), (X_test, y_test) = mnist.load_data()"
   ]
  },
  {
   "cell_type": "code",
   "execution_count": 11,
   "metadata": {},
   "outputs": [
    {
     "data": {
      "image/png": "[encoded data removed]",
      "text/plain": [
       "<Figure size 432x288 with 1 Axes>"
      ]
     },
     "metadata": {
      "needs_background": "light"
     },
     "output_type": "display_data"
    }
   ],
   "source": [
    "\"verificamos que tiene X_train\"\n",
    "\n",
    "i = 58\n",
    "plt.imshow(X_train[i])\n",
    "plt.title(str(y_train[i]))\n",
    "plt.show()"
   ]
  },
  {
   "cell_type": "code",
   "execution_count": 9,
   "metadata": {},
   "outputs": [
    {
     "data": {
      "text/plain": [
       "5"
      ]
     },
     "execution_count": 9,
     "metadata": {},
     "output_type": "execute_result"
    }
   ],
   "source": [
    "y_train[0]"
   ]
  },
  {
   "cell_type": "code",
   "execution_count": 42,
   "metadata": {},
   "outputs": [],
   "source": [
    "# \"Aplanamos estas imágenes con reshape de numpy\"\n",
    "\n",
    "# X_train is 60,000 rows of 28 x 28 values --> Reshaped in 60,000 x 784\n",
    "alto = X_train[0].shape[0]\n",
    "ancho = X_train[0].shape[1]\n",
    "RESHAPED = alto*ancho\n",
    "X_train = X_train.reshape(len(X_train), RESHAPED)\n",
    "X_test = X_test.reshape(len(X_test), RESHAPED)"
   ]
  },
  {
   "cell_type": "code",
   "execution_count": 33,
   "metadata": {},
   "outputs": [
    {
     "name": "stdout",
     "output_type": "stream",
     "text": [
      "Iteration 1, loss = 2.41270285\n",
      "Iteration 2, loss = 2.06332345\n",
      "Iteration 3, loss = 1.82593012\n",
      "Iteration 4, loss = 1.65555998\n",
      "Iteration 5, loss = 1.48708311\n",
      "Iteration 6, loss = 1.35934150\n",
      "Iteration 7, loss = 1.24829612\n",
      "Iteration 8, loss = 1.15384112\n",
      "Iteration 9, loss = 1.07171395\n",
      "Iteration 10, loss = 0.99561203\n",
      "Iteration 11, loss = 0.92527929\n",
      "Iteration 12, loss = 0.86100115\n",
      "Iteration 13, loss = 0.80270534\n",
      "Iteration 14, loss = 0.75074236\n",
      "Iteration 15, loss = 0.70428218\n",
      "Iteration 16, loss = 0.66237577\n",
      "Iteration 17, loss = 0.62550854\n",
      "Iteration 18, loss = 0.59261293\n",
      "Iteration 19, loss = 0.56362518\n",
      "Iteration 20, loss = 0.53835057\n",
      "Iteration 21, loss = 0.51544170\n",
      "Iteration 22, loss = 0.49472978\n",
      "Iteration 23, loss = 0.47657251\n",
      "Iteration 24, loss = 0.45987571\n",
      "Iteration 25, loss = 0.44535403\n",
      "Iteration 26, loss = 0.43206741\n",
      "Iteration 27, loss = 0.41936286\n",
      "Iteration 28, loss = 0.40794746\n",
      "Iteration 29, loss = 0.39786134\n",
      "Iteration 30, loss = 0.38876121\n",
      "Iteration 31, loss = 0.38032705\n",
      "Iteration 32, loss = 0.37252638\n",
      "Iteration 33, loss = 0.36559500\n",
      "Iteration 34, loss = 0.35882093\n",
      "Iteration 35, loss = 0.35265081\n",
      "Iteration 36, loss = 0.34745235\n",
      "Iteration 37, loss = 0.34252590\n",
      "Iteration 38, loss = 0.33679329\n",
      "Iteration 39, loss = 0.33323512\n",
      "Iteration 40, loss = 0.32803912\n",
      "Iteration 41, loss = 0.32372240\n",
      "Iteration 42, loss = 0.31942763\n",
      "Iteration 43, loss = 0.31662693\n",
      "Iteration 44, loss = 0.31261812\n",
      "Iteration 45, loss = 0.30922164\n",
      "Iteration 46, loss = 0.30660455\n",
      "Iteration 47, loss = 0.30286011\n",
      "Iteration 48, loss = 0.29993764\n",
      "Iteration 49, loss = 0.29829936\n",
      "Iteration 50, loss = 0.29495780\n",
      "Iteration 51, loss = 0.29143998\n",
      "Iteration 52, loss = 0.28934617\n",
      "Iteration 53, loss = 0.28678247\n",
      "Iteration 54, loss = 0.28435318\n",
      "Iteration 55, loss = 0.28247961\n",
      "Iteration 56, loss = 0.28001156\n",
      "Iteration 57, loss = 0.27854700\n",
      "Iteration 58, loss = 0.27543388\n",
      "Iteration 59, loss = 0.27515737\n",
      "Iteration 60, loss = 0.27210666\n",
      "Iteration 61, loss = 0.26961991\n",
      "Iteration 62, loss = 0.26890047\n",
      "Iteration 63, loss = 0.26616661\n",
      "Iteration 64, loss = 0.26465519\n",
      "Iteration 65, loss = 0.26442532\n",
      "Iteration 66, loss = 0.26309246\n",
      "Iteration 67, loss = 0.26140895\n",
      "Iteration 68, loss = 0.25783897\n",
      "Iteration 69, loss = 0.25802259\n",
      "Iteration 70, loss = 0.25613769\n",
      "Iteration 71, loss = 0.25405745\n",
      "Iteration 72, loss = 0.25312696\n",
      "Iteration 73, loss = 0.25229106\n",
      "Iteration 74, loss = 0.25025706\n",
      "Iteration 75, loss = 0.24822984\n",
      "Iteration 76, loss = 0.24987263\n",
      "Iteration 77, loss = 0.24839977\n",
      "Iteration 78, loss = 0.24781245\n",
      "Iteration 79, loss = 0.24658518\n",
      "Iteration 80, loss = 0.24469521\n",
      "Iteration 81, loss = 0.24575304\n",
      "Iteration 82, loss = 0.24155975\n",
      "Iteration 83, loss = 0.24016031\n",
      "Iteration 84, loss = 0.23922141\n",
      "Iteration 85, loss = 0.23971703\n",
      "Iteration 86, loss = 0.23773909\n",
      "Iteration 87, loss = 0.23673271\n",
      "Iteration 88, loss = 0.23471636\n",
      "Iteration 89, loss = 0.23365351\n",
      "Iteration 90, loss = 0.23397477\n",
      "Iteration 91, loss = 0.23220241\n",
      "Iteration 92, loss = 0.23130703\n",
      "Iteration 93, loss = 0.23157300\n",
      "Iteration 94, loss = 0.22914987\n",
      "Iteration 95, loss = 0.23141171\n",
      "Iteration 96, loss = 0.22809701\n",
      "Iteration 97, loss = 0.22600679\n",
      "Iteration 98, loss = 0.22499011\n",
      "Iteration 99, loss = 0.22477097\n",
      "Iteration 100, loss = 0.22407242\n"
     ]
    },
    {
     "name": "stderr",
     "output_type": "stream",
     "text": [
      "/Users/rodrigo/opt/anaconda3/lib/python3.7/site-packages/sklearn/neural_network/_multilayer_perceptron.py:571: ConvergenceWarning: Stochastic Optimizer: Maximum iterations (100) reached and the optimization hasn't converged yet.\n",
      "  % self.max_iter, ConvergenceWarning)\n"
     ]
    },
    {
     "data": {
      "text/plain": [
       "MLPClassifier(activation='logistic', alpha=0.0001, batch_size=60000, beta_1=0.9,\n",
       "              beta_2=0.999, early_stopping=False, epsilon=1e-08,\n",
       "              hidden_layer_sizes=50, learning_rate='constant',\n",
       "              learning_rate_init=0.1, max_fun=15000, max_iter=100, momentum=0.9,\n",
       "              n_iter_no_change=10, nesterovs_momentum=True, power_t=0.5,\n",
       "              random_state=1, shuffle=True, solver='sgd', tol=0.0001,\n",
       "              validation_fraction=0.1, verbose=10, warm_start=False)"
      ]
     },
     "execution_count": 33,
     "metadata": {},
     "output_type": "execute_result"
    }
   ],
   "source": [
    "from sklearn.exceptions import ConvergenceWarning\n",
    "\n",
    "\n",
    "mlp = MLPClassifier(hidden_layer_sizes=(50), max_iter=100, alpha=1e-4,\n",
    "                    solver='sgd', activation='logistic', verbose=10, random_state=1,batch_size=len(X_train),\n",
    "                    learning_rate_init=.1)\n",
    "\n",
    "mlp.fit(X_train, y_train)\n",
    "\n",
    "\n"
   ]
  },
  {
   "cell_type": "code",
   "execution_count": 34,
   "metadata": {},
   "outputs": [
    {
     "name": "stdout",
     "output_type": "stream",
     "text": [
      "Training set score: 0.939200\n",
      "Test set score: 0.925300\n"
     ]
    }
   ],
   "source": [
    "print(\"Training set score: %f\" % mlp.score(X_train, y_train))\n",
    "print(\"Test set score: %f\" % mlp.score(X_test, y_test))"
   ]
  },
  {
   "cell_type": "code",
   "execution_count": 35,
   "metadata": {},
   "outputs": [],
   "source": []
  },
  {
   "cell_type": "code",
   "execution_count": 37,
   "metadata": {},
   "outputs": [
    {
     "name": "stdout",
     "output_type": "stream",
     "text": [
      "Confusion matrix:\n",
      "[[ 955    0    1    1    0   10    7    2    3    1]\n",
      " [   0 1110    3    6    0    0    4    3    9    0]\n",
      " [  11    0  939   10   16    1   13   14   26    2]\n",
      " [   0    0   16  938    0   19    3   15   14    5]\n",
      " [   1    2    4    0  917    1   11    2    5   39]\n",
      " [  11    2    7   49    7  760   10    5   35    6]\n",
      " [  13    3    7    1   12   12  906    0    4    0]\n",
      " [   3   10   22    7    6    1    0  953    2   24]\n",
      " [   5    5    8   22    8   27   11   15  867    6]\n",
      " [  12    4    1   13   37    7    2   17    8  908]]\n"
     ]
    },
    {
     "data": {
      "image/png": "[encoded data removed]",
      "text/plain": [
       "<Figure size 432x288 with 2 Axes>"
      ]
     },
     "metadata": {
      "needs_background": "light"
     },
     "output_type": "display_data"
    }
   ],
   "source": [
    "disp = metrics.plot_confusion_matrix(mlp, X_test, y_test)\n",
    "disp.figure_.suptitle(\"Confusion Matrix\")\n",
    "print(f\"Confusion matrix:\\n{disp.confusion_matrix}\")\n",
    "\n",
    "plt.show()"
   ]
  },
  {
   "cell_type": "code",
   "execution_count": 7,
   "metadata": {},
   "outputs": [],
   "source": [
    "# MNIST dataset is read as integer numbers\n",
    "X_train = X_train.astype('float32')\n",
    "X_test = X_test.astype('float32')"
   ]
  },
  {
   "cell_type": "code",
   "execution_count": 8,
   "metadata": {},
   "outputs": [],
   "source": [
    "# Normalization to [0, 1] (Max value for grayscale images is 255)\n",
    "X_train /= 255\n",
    "X_test /= 255"
   ]
  },
  {
   "cell_type": "code",
   "execution_count": 9,
   "metadata": {},
   "outputs": [
    {
     "name": "stdout",
     "output_type": "stream",
     "text": [
      "60000 train samples\n",
      "10000 test samples\n"
     ]
    }
   ],
   "source": [
    "# Verify train and test datasets\n",
    "print(X_train.shape[0], 'train samples')\n",
    "print(X_test.shape[0], 'test samples')"
   ]
  },
  {
   "cell_type": "code",
   "execution_count": 10,
   "metadata": {},
   "outputs": [],
   "source": [
    "# Convert class vectors to OHE representation\n",
    "Y_train = keras.utils.to_categorical(y_train, NB_CLASSES)\n",
    "Y_test = keras.utils.to_categorical(y_test, NB_CLASSES)"
   ]
  },
  {
   "cell_type": "code",
   "execution_count": 11,
   "metadata": {},
   "outputs": [],
   "source": [
    "# Create model\n",
    "model = keras.models.Sequential()"
   ]
  },
  {
   "cell_type": "code",
   "execution_count": 12,
   "metadata": {},
   "outputs": [],
   "source": [
    "# 784 inputs and N_HIDDEN neurons in the first hidden layer\n",
    "model.add(keras.layers.Dense(N_HIDDEN,\n",
    "          input_shape=(RESHAPED,),\n",
    "          name='dense_layer', activation='relu'))\n",
    "model.add(keras.layers.Dropout(DROPOUT))\n",
    "\n",
    "# N_HIDDEN neurons in the second hidden layer\n",
    "model.add(keras.layers.Dense(N_HIDDEN,\n",
    "          name='dense_layer_2', activation='relu'))\n",
    "model.add(keras.layers.Dropout(DROPOUT))\n",
    "\n",
    "# 10 outputs\n",
    "model.add(keras.layers.Dense(NB_CLASSES,\n",
    "          name='dense_layer_3', activation='softmax'))"
   ]
  },
  {
   "cell_type": "code",
   "execution_count": 13,
   "metadata": {},
   "outputs": [
    {
     "name": "stdout",
     "output_type": "stream",
     "text": [
      "Model: \"sequential\"\n",
      "_________________________________________________________________\n",
      "Layer (type)                 Output Shape              Param #   \n",
      "=================================================================\n",
      "dense_layer (Dense)          (None, 128)               100480    \n",
      "_________________________________________________________________\n",
      "dropout (Dropout)            (None, 128)               0         \n",
      "_________________________________________________________________\n",
      "dense_layer_2 (Dense)        (None, 128)               16512     \n",
      "_________________________________________________________________\n",
      "dropout_1 (Dropout)          (None, 128)               0         \n",
      "_________________________________________________________________\n",
      "dense_layer_3 (Dense)        (None, 10)                1290      \n",
      "=================================================================\n",
      "Total params: 118,282\n",
      "Trainable params: 118,282\n",
      "Non-trainable params: 0\n",
      "_________________________________________________________________\n"
     ]
    }
   ],
   "source": [
    "# Show network architecture\n",
    "model.summary()"
   ]
  },
  {
   "cell_type": "code",
   "execution_count": 14,
   "metadata": {},
   "outputs": [],
   "source": [
    "# Compile the model\n",
    "model.compile(loss='categorical_crossentropy',\n",
    "              optimizer=OPTIMIZER,\n",
    "              metrics=['accuracy'])"
   ]
  },
  {
   "cell_type": "code",
   "execution_count": 15,
   "metadata": {},
   "outputs": [
    {
     "name": "stdout",
     "output_type": "stream",
     "text": [
      "Epoch 1/20\n",
      "375/375 [==============================] - 2s 5ms/step - loss: 0.5105 - accuracy: 0.8455 - val_loss: 0.1896 - val_accuracy: 0.9448\n",
      "Epoch 2/20\n",
      "375/375 [==============================] - 1s 4ms/step - loss: 0.2346 - accuracy: 0.9311 - val_loss: 0.1346 - val_accuracy: 0.9603\n",
      "Epoch 3/20\n",
      "375/375 [==============================] - 1s 4ms/step - loss: 0.1731 - accuracy: 0.9476 - val_loss: 0.1136 - val_accuracy: 0.9667\n",
      "Epoch 4/20\n",
      "375/375 [==============================] - 2s 4ms/step - loss: 0.1465 - accuracy: 0.9556 - val_loss: 0.1006 - val_accuracy: 0.9697\n",
      "Epoch 5/20\n",
      "375/375 [==============================] - 2s 4ms/step - loss: 0.1274 - accuracy: 0.9605 - val_loss: 0.0949 - val_accuracy: 0.9710\n",
      "Epoch 6/20\n",
      "375/375 [==============================] - 1s 4ms/step - loss: 0.1131 - accuracy: 0.9651 - val_loss: 0.0902 - val_accuracy: 0.9737\n",
      "Epoch 7/20\n",
      "375/375 [==============================] - 2s 4ms/step - loss: 0.1038 - accuracy: 0.9677 - val_loss: 0.0853 - val_accuracy: 0.9747\n",
      "Epoch 8/20\n",
      "375/375 [==============================] - 1s 4ms/step - loss: 0.0944 - accuracy: 0.9705 - val_loss: 0.0867 - val_accuracy: 0.9750\n",
      "Epoch 9/20\n",
      "375/375 [==============================] - 1s 4ms/step - loss: 0.0863 - accuracy: 0.9730 - val_loss: 0.0860 - val_accuracy: 0.9750\n",
      "Epoch 10/20\n",
      "375/375 [==============================] - 1s 4ms/step - loss: 0.0820 - accuracy: 0.9743 - val_loss: 0.0834 - val_accuracy: 0.9759\n",
      "Epoch 11/20\n",
      "375/375 [==============================] - 2s 4ms/step - loss: 0.0772 - accuracy: 0.9748 - val_loss: 0.0838 - val_accuracy: 0.9759\n",
      "Epoch 12/20\n",
      "375/375 [==============================] - 2s 4ms/step - loss: 0.0721 - accuracy: 0.9775 - val_loss: 0.0814 - val_accuracy: 0.9768\n",
      "Epoch 13/20\n",
      "375/375 [==============================] - 2s 5ms/step - loss: 0.0699 - accuracy: 0.9775 - val_loss: 0.0846 - val_accuracy: 0.9755\n",
      "Epoch 14/20\n",
      "375/375 [==============================] - 2s 4ms/step - loss: 0.0654 - accuracy: 0.9793 - val_loss: 0.0819 - val_accuracy: 0.9778\n",
      "Epoch 15/20\n",
      "375/375 [==============================] - 2s 5ms/step - loss: 0.0638 - accuracy: 0.9789 - val_loss: 0.0841 - val_accuracy: 0.9772\n",
      "Epoch 16/20\n",
      "375/375 [==============================] - 2s 4ms/step - loss: 0.0617 - accuracy: 0.9804 - val_loss: 0.0836 - val_accuracy: 0.9772\n",
      "Epoch 17/20\n",
      "375/375 [==============================] - 2s 4ms/step - loss: 0.0605 - accuracy: 0.9808 - val_loss: 0.0793 - val_accuracy: 0.9768\n",
      "Epoch 18/20\n",
      "375/375 [==============================] - 2s 5ms/step - loss: 0.0600 - accuracy: 0.9810 - val_loss: 0.0847 - val_accuracy: 0.9776\n",
      "Epoch 19/20\n",
      "375/375 [==============================] - 2s 4ms/step - loss: 0.0562 - accuracy: 0.9817 - val_loss: 0.0848 - val_accuracy: 0.9778\n",
      "Epoch 20/20\n",
      "375/375 [==============================] - 2s 4ms/step - loss: 0.0544 - accuracy: 0.9822 - val_loss: 0.0826 - val_accuracy: 0.9782\n"
     ]
    }
   ],
   "source": [
    "# Training\n",
    "history = model.fit(X_train, Y_train,\n",
    "                    batch_size=BATCH_SIZE, epochs=NB_EPOCH,\n",
    "                    verbose=VERBOSE, validation_split=VALIDATION_SPLIT)"
   ]
  },
  {
   "cell_type": "code",
   "execution_count": 16,
   "metadata": {},
   "outputs": [
    {
     "name": "stdout",
     "output_type": "stream",
     "text": [
      "313/313 [==============================] - 1s 2ms/step - loss: 0.0726 - accuracy: 0.9800\n",
      "\n",
      "Test score: 0.07259491831064224\n",
      "Test accuracy: 0.9800000190734863\n"
     ]
    }
   ],
   "source": [
    "# Evaluate the model\n",
    "score = model.evaluate(X_test, Y_test, verbose=VERBOSE)\n",
    "print(\"\\nTest score:\", score[0])\n",
    "print('Test accuracy:', score[1])"
   ]
  },
  {
   "cell_type": "code",
   "execution_count": 17,
   "metadata": {},
   "outputs": [
    {
     "name": "stdout",
     "output_type": "stream",
     "text": [
      "dict_keys(['loss', 'accuracy', 'val_loss', 'val_accuracy'])\n"
     ]
    },
    {
     "data": {
      "image/png": "[encoded data removed]",
      "text/plain": [
       "<Figure size 432x288 with 1 Axes>"
      ]
     },
     "metadata": {
      "needs_background": "light"
     },
     "output_type": "display_data"
    },
    {
     "data": {
      "image/png": "[encoded data removed]",
      "text/plain": [
       "<Figure size 432x288 with 1 Axes>"
      ]
     },
     "metadata": {
      "needs_background": "light"
     },
     "output_type": "display_data"
    }
   ],
   "source": [
    "#<<<\n",
    "# List all data in history\n",
    "print(history.history.keys())\n",
    "\n",
    "# Summarize history for accuracy\n",
    "plt.plot(history.history['accuracy'])\n",
    "plt.plot(history.history['val_accuracy'])\n",
    "plt.title('Model Accuracy')\n",
    "plt.ylabel('Accuracy')\n",
    "plt.xlabel('Epochs')\n",
    "plt.legend(['Train', 'Validation'], loc='upper left')\n",
    "plt.show()\n",
    "\n",
    "# Summarize history for loss\n",
    "plt.plot(history.history['loss'])\n",
    "plt.plot(history.history['val_loss'])\n",
    "plt.title('Model Lost')\n",
    "plt.ylabel('Loss')\n",
    "plt.xlabel('Epochs')\n",
    "plt.legend(['Train', 'Validation'], loc='upper left')\n",
    "plt.show()\n",
    "#>>>"
   ]
  },
  {
   "cell_type": "code",
   "execution_count": null,
   "metadata": {},
   "outputs": [],
   "source": []
  },
  {
   "cell_type": "code",
   "execution_count": null,
   "metadata": {},
   "outputs": [],
   "source": []
  },
  {
   "cell_type": "code",
   "execution_count": null,
   "metadata": {},
   "outputs": [],
   "source": [
    "REFERENCIAS\n",
    "\n",
    "https://scikit-learn.org/stable/modules/generated/sklearn.datasets.load_digits.html"
   ]
  }
 ],
 "metadata": {
  "kernelspec": {
   "display_name": "Python 3",
   "language": "python",
   "name": "python3"
  },
  "language_info": {
   "codemirror_mode": {
    "name": "ipython",
    "version": 3
   },
   "file_extension": ".py",
   "mimetype": "text/x-python",
   "name": "python",
   "nbconvert_exporter": "python",
   "pygments_lexer": "ipython3",
   "version": "3.7.6"
  }
 },
 "nbformat": 4,
 "nbformat_minor": 5
}
